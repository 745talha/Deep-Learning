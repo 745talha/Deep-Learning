{
 "cells": [
  {
   "cell_type": "code",
   "execution_count": 1,
   "id": "a4372900",
   "metadata": {},
   "outputs": [],
   "source": [
    "from resources.helper.helper_dataset import get_dataloaders_mnist\n",
    "from resources.helper.helper_evaluation import set_all_seeds, set_deterministic\n",
    "from resources.helper.helper_train import train_model\n",
    "from resources.helper.helper_plotting import plot_training_loss, plot_accuracy, show_examples\n",
    "\n",
    "import torch\n",
    "import numpy as np\n",
    "import matplotlib.pyplot as plt"
   ]
  },
  {
   "cell_type": "code",
   "execution_count": 2,
   "id": "7d104c70",
   "metadata": {},
   "outputs": [
    {
     "data": {
      "text/plain": [
       "device(type='cuda', index=0)"
      ]
     },
     "execution_count": 2,
     "metadata": {},
     "output_type": "execute_result"
    }
   ],
   "source": [
    "device = torch.device(\"cuda:0\" if torch.cuda.is_available() else \"cpu\")\n",
    "device"
   ]
  },
  {
   "cell_type": "code",
   "execution_count": 3,
   "id": "fc238d5f",
   "metadata": {},
   "outputs": [
    {
     "name": "stdout",
     "output_type": "stream",
     "text": [
      "Image batch d    imensions: torch.Size([256, 1, 28, 28])\n",
      "Image label dimensions: torch.Size([256])\n",
      "Class labels of 10 examples: tensor([4, 0, 2, 6, 1, 3, 3, 1, 7, 2])\n"
     ]
    }
   ],
   "source": [
    "train_loader, valid_loader, test_loader = get_dataloaders_mnist(batch_size=256,validation_fraction=0.1)\n",
    "for images, labels in train_loader:  \n",
    "    print('Image batch d    imensions:', images.shape)\n",
    "    print('Image label dimensions:', labels.shape)\n",
    "    print('Class labels of 10 examples:', labels[:10])\n",
    "    break"
   ]
  },
  {
   "cell_type": "code",
   "execution_count": 4,
   "id": "32cc313e",
   "metadata": {},
   "outputs": [],
   "source": [
    "class MLP(torch.nn.Module):\n",
    "\n",
    "    def __init__(self, num_features, num_classes, drop_proba, \n",
    "                 num_hidden_1, num_hidden_2):\n",
    "        super().__init__()\n",
    "        \n",
    "        self.network = torch.nn.Sequential(\n",
    "            torch.nn.Flatten(),\n",
    "            torch.nn.Linear(num_features, num_hidden_1,bias=False),\n",
    "            torch.nn.BatchNorm1d(num_hidden_1),\n",
    "            torch.nn.ReLU(),\n",
    "            torch.nn.Linear(num_hidden_1, num_hidden_2,bias=False),\n",
    "            torch.nn.BatchNorm1d(num_hidden_2),\n",
    "            torch.nn.ReLU(),\n",
    "            torch.nn.Dropout(drop_proba),\n",
    "\n",
    "            torch.nn.Linear(num_hidden_2, num_classes)\n",
    "        )\n",
    "\n",
    "        # Kaiming He weight initialization\n",
    "        # for m in self.modules():\n",
    "        #     if isinstance(m, torch.nn.Linear):\n",
    "        #         torch.nn.init.kaiming_uniform_(m.weight, mode='fan_in', nonlinearity='relu')\n",
    "        #         if m.bias is not None:\n",
    "        #             m.bias.detach().zero_()\n",
    "           \n",
    "        # normal weight initialization (gaussian distribution)\n",
    "        for m in self.modules():\n",
    "            if isinstance(m, torch.nn.Linear):\n",
    "                m.weight.detach().normal_(0, 0.001)\n",
    "                if m.bias is not None:\n",
    "                    m.bias.detach().zero_()\n",
    "    def forward(self, x):\n",
    "        logits = self.network(x)\n",
    "        return logits"
   ]
  },
  {
   "cell_type": "code",
   "execution_count": null,
   "id": "af9f9bd6",
   "metadata": {},
   "outputs": [
    {
     "ename": "TypeError",
     "evalue": "ReduceLROnPlateau.__init__() got an unexpected keyword argument 'verbose'",
     "output_type": "error",
     "traceback": [
      "\u001b[31m---------------------------------------------------------------------------\u001b[39m",
      "\u001b[31mTypeError\u001b[39m                                 Traceback (most recent call last)",
      "\u001b[36mCell\u001b[39m\u001b[36m \u001b[39m\u001b[32mIn[8]\u001b[39m\u001b[32m, line 11\u001b[39m\n\u001b[32m      9\u001b[39m optimizer = torch.optim.SGD(model.parameters(), lr=lr)\n\u001b[32m     10\u001b[39m Epochs=\u001b[32m5\u001b[39m\n\u001b[32m---> \u001b[39m\u001b[32m11\u001b[39m scheduler = \u001b[43mtorch\u001b[49m\u001b[43m.\u001b[49m\u001b[43moptim\u001b[49m\u001b[43m.\u001b[49m\u001b[43mlr_scheduler\u001b[49m\u001b[43m.\u001b[49m\u001b[43mReduceLROnPlateau\u001b[49m\u001b[43m(\u001b[49m\u001b[43moptimizer\u001b[49m\u001b[43m,\u001b[49m\u001b[43mfactor\u001b[49m\u001b[43m=\u001b[49m\u001b[32;43m0.1\u001b[39;49m\u001b[43m,\u001b[49m\u001b[43m \u001b[49m\u001b[43mmode\u001b[49m\u001b[43m=\u001b[49m\u001b[33;43m'\u001b[39;49m\u001b[33;43mmax\u001b[39;49m\u001b[33;43m'\u001b[39;49m\u001b[43m,\u001b[49m\u001b[43mverbose\u001b[49m\u001b[43m=\u001b[49m\u001b[38;5;28;43;01mTrue\u001b[39;49;00m\u001b[43m)\u001b[49m\n\u001b[32m     13\u001b[39m minibatch_loss_list, train_acc_list, valid_acc_list = train_model(\n\u001b[32m     14\u001b[39m     model=model,\n\u001b[32m     15\u001b[39m     num_epochs=Epochs,\n\u001b[32m   (...)\u001b[39m\u001b[32m     22\u001b[39m     scheduler=scheduler,\n\u001b[32m     23\u001b[39m     scheduler_on=\u001b[33m'\u001b[39m\u001b[33mvalid_acc\u001b[39m\u001b[33m'\u001b[39m)\n\u001b[32m     25\u001b[39m plot_training_loss(minibatch_loss_list=minibatch_loss_list,\n\u001b[32m     26\u001b[39m                    num_epochs=Epochs,\n\u001b[32m     27\u001b[39m                    iter_per_epoch=\u001b[38;5;28mlen\u001b[39m(train_loader),\n\u001b[32m     28\u001b[39m                    results_dir=\u001b[38;5;28;01mNone\u001b[39;00m,\n\u001b[32m     29\u001b[39m                    averaging_iterations=\u001b[32m20\u001b[39m)\n",
      "\u001b[31mTypeError\u001b[39m: ReduceLROnPlateau.__init__() got an unexpected keyword argument 'verbose'"
     ]
    }
   ],
   "source": [
    "torch.manual_seed(42)\n",
    "model = MLP(num_features=28*28,\n",
    "                             num_hidden_1=70,\n",
    "                             num_hidden_2=50,\n",
    "                             drop_proba=0.2,\n",
    "                             num_classes=10)\n",
    "model = model.to(device)\n",
    "lr=0.1\n",
    "optimizer = torch.optim.SGD(model.parameters(), lr=lr)\n",
    "Epochs=5\n",
    "scheduler = torch.optim.lr_scheduler.ReduceLROnPlateau(optimizer,factor=0.1, mode='max')\n",
    "\n",
    "minibatch_loss_list, train_acc_list, valid_acc_list = train_model(\n",
    "    model=model,\n",
    "    num_epochs=Epochs,\n",
    "    train_loader=train_loader,\n",
    "    valid_loader=valid_loader,\n",
    "    test_loader=test_loader,\n",
    "    optimizer=optimizer,\n",
    "    device=device,\n",
    "    logging_interval=50,\n",
    "    scheduler=scheduler,\n",
    "    scheduler_on='valid_acc')\n",
    "\n",
    "plot_training_loss(minibatch_loss_list=minibatch_loss_list,\n",
    "                   num_epochs=Epochs,\n",
    "                   iter_per_epoch=len(train_loader),\n",
    "                   results_dir=None,\n",
    "                   averaging_iterations=20)\n",
    "\n",
    "plt.show()\n",
    "\n",
    "plot_accuracy(train_acc_list=train_acc_list,\n",
    "              valid_acc_list=valid_acc_list,\n",
    "              results_dir=None)\n",
    "\n",
    "plt.ylim([80, 100])\n",
    "plt.show()\n"
   ]
  },
  {
   "cell_type": "code",
   "execution_count": null,
   "id": "421a05b9",
   "metadata": {},
   "outputs": [],
   "source": []
  }
 ],
 "metadata": {
  "kernelspec": {
   "display_name": "env",
   "language": "python",
   "name": "python3"
  },
  "language_info": {
   "codemirror_mode": {
    "name": "ipython",
    "version": 3
   },
   "file_extension": ".py",
   "mimetype": "text/x-python",
   "name": "python",
   "nbconvert_exporter": "python",
   "pygments_lexer": "ipython3",
   "version": "3.13.3"
  }
 },
 "nbformat": 4,
 "nbformat_minor": 5
}
