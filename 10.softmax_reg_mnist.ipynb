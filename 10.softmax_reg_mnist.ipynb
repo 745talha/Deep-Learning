{
 "cells": [
  {
   "cell_type": "code",
   "execution_count": 1,
   "id": "21f1875d",
   "metadata": {},
   "outputs": [],
   "source": [
    "import time\n",
    "import torch\n",
    "from torchvision import datasets\n",
    "from torchvision import transforms\n",
    "from torch.utils.data import DataLoader\n",
    "from torch.nn import functional"
   ]
  },
  {
   "cell_type": "code",
   "execution_count": 2,
   "id": "fcbc3d42",
   "metadata": {},
   "outputs": [
    {
     "data": {
      "text/plain": [
       "device(type='cuda', index=0)"
      ]
     },
     "execution_count": 2,
     "metadata": {},
     "output_type": "execute_result"
    }
   ],
   "source": [
    "device = torch.device(\"cuda:0\" if torch.cuda.is_available() else \"cpu\")\n",
    "device"
   ]
  },
  {
   "cell_type": "code",
   "execution_count": 3,
   "id": "f96a5fcd",
   "metadata": {},
   "outputs": [],
   "source": [
    "seed=42\n",
    "lr=0.1\n",
    "epochs=30\n",
    "batch_size=32\n",
    "features=784\n",
    "num_classes=10"
   ]
  },
  {
   "cell_type": "code",
   "execution_count": 4,
   "id": "4fb685ff",
   "metadata": {},
   "outputs": [],
   "source": [
    "train_dataset=datasets.MNIST(root='data', train=True, transform=transforms.ToTensor(),download=True)"
   ]
  },
  {
   "cell_type": "code",
   "execution_count": 5,
   "id": "21078578",
   "metadata": {},
   "outputs": [],
   "source": [
    "test_dataset=datasets.MNIST(root='data', train=False, transform=transforms.ToTensor(),download=True)"
   ]
  },
  {
   "cell_type": "code",
   "execution_count": null,
   "id": "e4824112",
   "metadata": {},
   "outputs": [],
   "source": [
    "train_loader=DataLoader(dataset=train_dataset, batch_size=256,shuffle=True)\n",
    "test_loader=DataLoader(dataset=test_dataset, batch_size=256,shuffle=False)"
   ]
  },
  {
   "cell_type": "code",
   "execution_count": 7,
   "id": "87a4e429",
   "metadata": {},
   "outputs": [
    {
     "name": "stdout",
     "output_type": "stream",
     "text": [
      "Image dimensions:  torch.Size([32, 1, 28, 28])\n",
      "Labels dimensions:  torch.Size([32])\n"
     ]
    }
   ],
   "source": [
    "for images, labels in train_loader:\n",
    "    print(\"Image dimensions: \",images.shape), # batch size, color chanel, size(h,w)\n",
    "    print(\"Labels dimensions: \",labels.shape)   \n",
    "    break"
   ]
  },
  {
   "cell_type": "code",
   "execution_count": 25,
   "id": "92414f41",
   "metadata": {},
   "outputs": [],
   "source": [
    "class Softmax_regression(torch.nn.Module):\n",
    "    def __init__(self, num_features=784, classes=10):\n",
    "        super(Softmax_regression, self).__init__()\n",
    "        self.layer=torch.nn.Linear(num_features,classes)\n",
    "        self.classes=classes\n",
    "        self.layer.weight.detach().zero_()\n",
    "        self.layer.bias.detach().zero_()\n",
    "    \n",
    "    def forward(self, x):\n",
    "        logits=self.layer(x)\n",
    "        probs=functional.softmax(logits, dim=1)\n",
    "        return logits,probs\n",
    "    \n",
    "\n",
    "def accuracy(model, data_loader):\n",
    "    correct_pred, num_examples = 0, 0\n",
    "    for features, targets in data_loader:\n",
    "        features = features.view(-1, 28*28).to(device)\n",
    "        targets = targets.to(device)\n",
    "        _,probas = model(features)\n",
    "        _, predicted_labels = torch.max(probas, 1)\n",
    "        num_examples += targets.size(0)\n",
    "        correct_pred += (predicted_labels == targets).sum()\n",
    "        \n",
    "    return correct_pred.float() / num_examples * 100"
   ]
  },
  {
   "cell_type": "code",
   "execution_count": 26,
   "id": "2a826cf8",
   "metadata": {},
   "outputs": [],
   "source": [
    "start=time.time()\n",
    "def train(model, epochs=10, lr=0.01):\n",
    "    loss_per_epoch=[]\n",
    "    optimizer = torch.optim.SGD(model.parameters(), lr=lr) \n",
    "    total_batches=len(train_dataset)/256\n",
    "    for e in range(epochs):\n",
    "        avg_loss=0\n",
    "        for batch_indice, (features, targets) in enumerate(train_loader):\n",
    "            X = features.view(-1, 28*28).to(device)\n",
    "            y = targets.to(device)\n",
    "            logits,y_pred=model(X)\n",
    "            loss=functional.cross_entropy(logits, y)\n",
    "            optimizer.zero_grad()\n",
    "            loss.backward()\n",
    "            avg_loss+=loss\n",
    "            optimizer.step()\n",
    "            if not batch_indice % 50:\n",
    "                print (f\"Epoch: {e}/ {epochs} | Batch: {batch_indice} / {total_batches}  | Cost: {loss:.4f}\")\n",
    "        with torch.no_grad():\n",
    "            avg_loss = avg_loss/len(train_dataset)\n",
    "            loss_per_epoch.append(avg_loss)\n",
    "            acc=accuracy(model, train_loader)\n",
    "            print(f\"Epoch: {e}/{epochs} training accuracy: {acc:.4f}\")\n",
    "        print(\"Time elapsed: \",time.time()-start)\n",
    "            \n",
    "    return loss_per_epoch"
   ]
  },
  {
   "cell_type": "code",
   "execution_count": 28,
   "id": "85ad749b",
   "metadata": {},
   "outputs": [
    {
     "name": "stdout",
     "output_type": "stream",
     "text": [
      "Epoch: 0/ 5 | Batch: 0 / 234.375  | Cost: 2.3026\n",
      "Epoch: 0/ 5 | Batch: 50 / 234.375  | Cost: 1.8287\n",
      "Epoch: 0/ 5 | Batch: 100 / 234.375  | Cost: 1.4694\n",
      "Epoch: 0/ 5 | Batch: 150 / 234.375  | Cost: 1.2723\n",
      "Epoch: 0/ 5 | Batch: 200 / 234.375  | Cost: 1.0690\n",
      "Epoch: 0/ 5 | Batch: 250 / 234.375  | Cost: 1.0817\n",
      "Epoch: 0/ 5 | Batch: 300 / 234.375  | Cost: 0.9269\n",
      "Epoch: 0/ 5 | Batch: 350 / 234.375  | Cost: 0.9552\n",
      "Epoch: 0/ 5 | Batch: 400 / 234.375  | Cost: 0.9312\n",
      "Epoch: 0/ 5 | Batch: 450 / 234.375  | Cost: 0.7842\n",
      "Epoch: 0/ 5 | Batch: 500 / 234.375  | Cost: 0.7932\n",
      "Epoch: 0/ 5 | Batch: 550 / 234.375  | Cost: 0.8909\n",
      "Epoch: 0/ 5 | Batch: 600 / 234.375  | Cost: 0.5748\n",
      "Epoch: 0/ 5 | Batch: 650 / 234.375  | Cost: 0.6739\n",
      "Epoch: 0/ 5 | Batch: 700 / 234.375  | Cost: 0.5655\n",
      "Epoch: 0/ 5 | Batch: 750 / 234.375  | Cost: 0.6797\n",
      "Epoch: 0/ 5 | Batch: 800 / 234.375  | Cost: 0.5344\n",
      "Epoch: 0/ 5 | Batch: 850 / 234.375  | Cost: 0.5502\n",
      "Epoch: 0/ 5 | Batch: 900 / 234.375  | Cost: 0.5133\n",
      "Epoch: 0/ 5 | Batch: 950 / 234.375  | Cost: 0.5929\n",
      "Epoch: 0/ 5 | Batch: 1000 / 234.375  | Cost: 0.6348\n",
      "Epoch: 0/ 5 | Batch: 1050 / 234.375  | Cost: 0.5260\n",
      "Epoch: 0/ 5 | Batch: 1100 / 234.375  | Cost: 0.5364\n",
      "Epoch: 0/ 5 | Batch: 1150 / 234.375  | Cost: 0.3698\n",
      "Epoch: 0/ 5 | Batch: 1200 / 234.375  | Cost: 0.6748\n",
      "Epoch: 0/ 5 | Batch: 1250 / 234.375  | Cost: 0.6630\n",
      "Epoch: 0/ 5 | Batch: 1300 / 234.375  | Cost: 0.6482\n",
      "Epoch: 0/ 5 | Batch: 1350 / 234.375  | Cost: 0.5291\n",
      "Epoch: 0/ 5 | Batch: 1400 / 234.375  | Cost: 0.6144\n",
      "Epoch: 0/ 5 | Batch: 1450 / 234.375  | Cost: 0.4260\n",
      "Epoch: 0/ 5 | Batch: 1500 / 234.375  | Cost: 0.4361\n",
      "Epoch: 0/ 5 | Batch: 1550 / 234.375  | Cost: 0.6190\n",
      "Epoch: 0/ 5 | Batch: 1600 / 234.375  | Cost: 0.5704\n",
      "Epoch: 0/ 5 | Batch: 1650 / 234.375  | Cost: 0.4473\n",
      "Epoch: 0/ 5 | Batch: 1700 / 234.375  | Cost: 0.4961\n",
      "Epoch: 0/ 5 | Batch: 1750 / 234.375  | Cost: 0.7474\n",
      "Epoch: 0/ 5 | Batch: 1800 / 234.375  | Cost: 0.3408\n",
      "Epoch: 0/ 5 | Batch: 1850 / 234.375  | Cost: 0.4610\n",
      "Epoch: 0/5 training accuracy: 87.4600\n",
      "Time elapsed:  348.7505192756653\n",
      "Epoch: 1/ 5 | Batch: 0 / 234.375  | Cost: 0.5025\n",
      "Epoch: 1/ 5 | Batch: 50 / 234.375  | Cost: 0.3103\n",
      "Epoch: 1/ 5 | Batch: 100 / 234.375  | Cost: 0.5519\n",
      "Epoch: 1/ 5 | Batch: 150 / 234.375  | Cost: 0.4743\n",
      "Epoch: 1/ 5 | Batch: 200 / 234.375  | Cost: 0.2444\n",
      "Epoch: 1/ 5 | Batch: 250 / 234.375  | Cost: 0.4088\n",
      "Epoch: 1/ 5 | Batch: 300 / 234.375  | Cost: 0.4681\n",
      "Epoch: 1/ 5 | Batch: 350 / 234.375  | Cost: 0.6118\n",
      "Epoch: 1/ 5 | Batch: 400 / 234.375  | Cost: 0.4012\n",
      "Epoch: 1/ 5 | Batch: 450 / 234.375  | Cost: 0.7864\n",
      "Epoch: 1/ 5 | Batch: 500 / 234.375  | Cost: 0.3614\n",
      "Epoch: 1/ 5 | Batch: 550 / 234.375  | Cost: 0.5588\n",
      "Epoch: 1/ 5 | Batch: 600 / 234.375  | Cost: 0.3120\n",
      "Epoch: 1/ 5 | Batch: 650 / 234.375  | Cost: 0.3292\n",
      "Epoch: 1/ 5 | Batch: 700 / 234.375  | Cost: 0.3640\n",
      "Epoch: 1/ 5 | Batch: 750 / 234.375  | Cost: 0.3759\n",
      "Epoch: 1/ 5 | Batch: 800 / 234.375  | Cost: 0.2694\n",
      "Epoch: 1/ 5 | Batch: 850 / 234.375  | Cost: 0.4617\n",
      "Epoch: 1/ 5 | Batch: 900 / 234.375  | Cost: 0.5974\n",
      "Epoch: 1/ 5 | Batch: 950 / 234.375  | Cost: 0.4737\n",
      "Epoch: 1/ 5 | Batch: 1000 / 234.375  | Cost: 0.8061\n",
      "Epoch: 1/ 5 | Batch: 1050 / 234.375  | Cost: 0.4371\n",
      "Epoch: 1/ 5 | Batch: 1100 / 234.375  | Cost: 0.4850\n",
      "Epoch: 1/ 5 | Batch: 1150 / 234.375  | Cost: 0.7004\n",
      "Epoch: 1/ 5 | Batch: 1200 / 234.375  | Cost: 0.4915\n",
      "Epoch: 1/ 5 | Batch: 1250 / 234.375  | Cost: 0.3355\n",
      "Epoch: 1/ 5 | Batch: 1300 / 234.375  | Cost: 0.2907\n",
      "Epoch: 1/ 5 | Batch: 1350 / 234.375  | Cost: 0.3384\n",
      "Epoch: 1/ 5 | Batch: 1400 / 234.375  | Cost: 0.4350\n",
      "Epoch: 1/ 5 | Batch: 1450 / 234.375  | Cost: 0.5906\n",
      "Epoch: 1/ 5 | Batch: 1500 / 234.375  | Cost: 0.3311\n",
      "Epoch: 1/ 5 | Batch: 1550 / 234.375  | Cost: 0.7115\n",
      "Epoch: 1/ 5 | Batch: 1600 / 234.375  | Cost: 0.4391\n",
      "Epoch: 1/ 5 | Batch: 1650 / 234.375  | Cost: 0.3337\n",
      "Epoch: 1/ 5 | Batch: 1700 / 234.375  | Cost: 0.4064\n",
      "Epoch: 1/ 5 | Batch: 1750 / 234.375  | Cost: 0.4758\n",
      "Epoch: 1/ 5 | Batch: 1800 / 234.375  | Cost: 0.2979\n",
      "Epoch: 1/ 5 | Batch: 1850 / 234.375  | Cost: 0.5233\n",
      "Epoch: 1/5 training accuracy: 88.9700\n",
      "Time elapsed:  366.092746257782\n",
      "Epoch: 2/ 5 | Batch: 0 / 234.375  | Cost: 0.4190\n",
      "Epoch: 2/ 5 | Batch: 50 / 234.375  | Cost: 0.3350\n",
      "Epoch: 2/ 5 | Batch: 100 / 234.375  | Cost: 0.2509\n",
      "Epoch: 2/ 5 | Batch: 150 / 234.375  | Cost: 0.5301\n",
      "Epoch: 2/ 5 | Batch: 200 / 234.375  | Cost: 0.3892\n",
      "Epoch: 2/ 5 | Batch: 250 / 234.375  | Cost: 0.4389\n",
      "Epoch: 2/ 5 | Batch: 300 / 234.375  | Cost: 0.6600\n",
      "Epoch: 2/ 5 | Batch: 350 / 234.375  | Cost: 1.0705\n",
      "Epoch: 2/ 5 | Batch: 400 / 234.375  | Cost: 0.5721\n",
      "Epoch: 2/ 5 | Batch: 450 / 234.375  | Cost: 0.5871\n",
      "Epoch: 2/ 5 | Batch: 500 / 234.375  | Cost: 0.5671\n",
      "Epoch: 2/ 5 | Batch: 550 / 234.375  | Cost: 0.4502\n",
      "Epoch: 2/ 5 | Batch: 600 / 234.375  | Cost: 0.5559\n",
      "Epoch: 2/ 5 | Batch: 650 / 234.375  | Cost: 0.2687\n",
      "Epoch: 2/ 5 | Batch: 700 / 234.375  | Cost: 0.4226\n",
      "Epoch: 2/ 5 | Batch: 750 / 234.375  | Cost: 0.4350\n",
      "Epoch: 2/ 5 | Batch: 800 / 234.375  | Cost: 0.4444\n",
      "Epoch: 2/ 5 | Batch: 850 / 234.375  | Cost: 0.2447\n",
      "Epoch: 2/ 5 | Batch: 900 / 234.375  | Cost: 0.1932\n",
      "Epoch: 2/ 5 | Batch: 950 / 234.375  | Cost: 0.3270\n",
      "Epoch: 2/ 5 | Batch: 1000 / 234.375  | Cost: 0.4704\n",
      "Epoch: 2/ 5 | Batch: 1050 / 234.375  | Cost: 0.2990\n",
      "Epoch: 2/ 5 | Batch: 1100 / 234.375  | Cost: 0.4919\n",
      "Epoch: 2/ 5 | Batch: 1150 / 234.375  | Cost: 0.5482\n",
      "Epoch: 2/ 5 | Batch: 1200 / 234.375  | Cost: 0.5678\n",
      "Epoch: 2/ 5 | Batch: 1250 / 234.375  | Cost: 0.1938\n",
      "Epoch: 2/ 5 | Batch: 1300 / 234.375  | Cost: 0.3910\n",
      "Epoch: 2/ 5 | Batch: 1350 / 234.375  | Cost: 0.3844\n",
      "Epoch: 2/ 5 | Batch: 1400 / 234.375  | Cost: 0.3926\n",
      "Epoch: 2/ 5 | Batch: 1450 / 234.375  | Cost: 0.2802\n",
      "Epoch: 2/ 5 | Batch: 1500 / 234.375  | Cost: 0.3980\n",
      "Epoch: 2/ 5 | Batch: 1550 / 234.375  | Cost: 0.1278\n",
      "Epoch: 2/ 5 | Batch: 1600 / 234.375  | Cost: 0.4596\n",
      "Epoch: 2/ 5 | Batch: 1650 / 234.375  | Cost: 0.5342\n",
      "Epoch: 2/ 5 | Batch: 1700 / 234.375  | Cost: 0.2760\n",
      "Epoch: 2/ 5 | Batch: 1750 / 234.375  | Cost: 0.2793\n",
      "Epoch: 2/ 5 | Batch: 1800 / 234.375  | Cost: 0.6308\n",
      "Epoch: 2/ 5 | Batch: 1850 / 234.375  | Cost: 0.4216\n",
      "Epoch: 2/5 training accuracy: 89.6150\n",
      "Time elapsed:  384.125684261322\n",
      "Epoch: 3/ 5 | Batch: 0 / 234.375  | Cost: 0.3246\n",
      "Epoch: 3/ 5 | Batch: 50 / 234.375  | Cost: 0.2615\n",
      "Epoch: 3/ 5 | Batch: 100 / 234.375  | Cost: 0.2689\n",
      "Epoch: 3/ 5 | Batch: 150 / 234.375  | Cost: 0.4150\n",
      "Epoch: 3/ 5 | Batch: 200 / 234.375  | Cost: 0.3670\n",
      "Epoch: 3/ 5 | Batch: 250 / 234.375  | Cost: 0.3222\n",
      "Epoch: 3/ 5 | Batch: 300 / 234.375  | Cost: 0.3362\n",
      "Epoch: 3/ 5 | Batch: 350 / 234.375  | Cost: 0.3550\n",
      "Epoch: 3/ 5 | Batch: 400 / 234.375  | Cost: 0.2994\n",
      "Epoch: 3/ 5 | Batch: 450 / 234.375  | Cost: 0.4014\n",
      "Epoch: 3/ 5 | Batch: 500 / 234.375  | Cost: 0.3843\n",
      "Epoch: 3/ 5 | Batch: 550 / 234.375  | Cost: 0.5134\n",
      "Epoch: 3/ 5 | Batch: 600 / 234.375  | Cost: 0.3918\n",
      "Epoch: 3/ 5 | Batch: 650 / 234.375  | Cost: 0.3642\n",
      "Epoch: 3/ 5 | Batch: 700 / 234.375  | Cost: 0.3014\n",
      "Epoch: 3/ 5 | Batch: 750 / 234.375  | Cost: 0.2397\n",
      "Epoch: 3/ 5 | Batch: 800 / 234.375  | Cost: 0.3448\n",
      "Epoch: 3/ 5 | Batch: 850 / 234.375  | Cost: 0.4199\n",
      "Epoch: 3/ 5 | Batch: 900 / 234.375  | Cost: 0.3787\n",
      "Epoch: 3/ 5 | Batch: 950 / 234.375  | Cost: 0.2515\n",
      "Epoch: 3/ 5 | Batch: 1000 / 234.375  | Cost: 0.3656\n",
      "Epoch: 3/ 5 | Batch: 1050 / 234.375  | Cost: 0.1588\n",
      "Epoch: 3/ 5 | Batch: 1100 / 234.375  | Cost: 0.3914\n",
      "Epoch: 3/ 5 | Batch: 1150 / 234.375  | Cost: 0.3207\n",
      "Epoch: 3/ 5 | Batch: 1200 / 234.375  | Cost: 0.4752\n",
      "Epoch: 3/ 5 | Batch: 1250 / 234.375  | Cost: 0.2719\n",
      "Epoch: 3/ 5 | Batch: 1300 / 234.375  | Cost: 0.5838\n",
      "Epoch: 3/ 5 | Batch: 1350 / 234.375  | Cost: 0.2499\n",
      "Epoch: 3/ 5 | Batch: 1400 / 234.375  | Cost: 0.3837\n",
      "Epoch: 3/ 5 | Batch: 1450 / 234.375  | Cost: 0.4230\n",
      "Epoch: 3/ 5 | Batch: 1500 / 234.375  | Cost: 0.1402\n",
      "Epoch: 3/ 5 | Batch: 1550 / 234.375  | Cost: 0.4314\n",
      "Epoch: 3/ 5 | Batch: 1600 / 234.375  | Cost: 0.3671\n",
      "Epoch: 3/ 5 | Batch: 1650 / 234.375  | Cost: 0.2357\n",
      "Epoch: 3/ 5 | Batch: 1700 / 234.375  | Cost: 0.3150\n",
      "Epoch: 3/ 5 | Batch: 1750 / 234.375  | Cost: 0.3530\n",
      "Epoch: 3/ 5 | Batch: 1800 / 234.375  | Cost: 0.3277\n",
      "Epoch: 3/ 5 | Batch: 1850 / 234.375  | Cost: 0.2747\n",
      "Epoch: 3/5 training accuracy: 90.0433\n",
      "Time elapsed:  404.48599910736084\n",
      "Epoch: 4/ 5 | Batch: 0 / 234.375  | Cost: 0.3870\n",
      "Epoch: 4/ 5 | Batch: 50 / 234.375  | Cost: 0.2509\n",
      "Epoch: 4/ 5 | Batch: 100 / 234.375  | Cost: 0.4724\n",
      "Epoch: 4/ 5 | Batch: 150 / 234.375  | Cost: 0.2570\n",
      "Epoch: 4/ 5 | Batch: 200 / 234.375  | Cost: 0.6181\n",
      "Epoch: 4/ 5 | Batch: 250 / 234.375  | Cost: 0.3209\n",
      "Epoch: 4/ 5 | Batch: 300 / 234.375  | Cost: 0.5377\n",
      "Epoch: 4/ 5 | Batch: 350 / 234.375  | Cost: 0.4780\n",
      "Epoch: 4/ 5 | Batch: 400 / 234.375  | Cost: 0.1476\n",
      "Epoch: 4/ 5 | Batch: 450 / 234.375  | Cost: 0.6215\n",
      "Epoch: 4/ 5 | Batch: 500 / 234.375  | Cost: 0.6004\n",
      "Epoch: 4/ 5 | Batch: 550 / 234.375  | Cost: 0.1750\n",
      "Epoch: 4/ 5 | Batch: 600 / 234.375  | Cost: 0.2154\n",
      "Epoch: 4/ 5 | Batch: 650 / 234.375  | Cost: 0.4431\n",
      "Epoch: 4/ 5 | Batch: 700 / 234.375  | Cost: 0.2003\n",
      "Epoch: 4/ 5 | Batch: 750 / 234.375  | Cost: 0.5454\n",
      "Epoch: 4/ 5 | Batch: 800 / 234.375  | Cost: 0.1566\n",
      "Epoch: 4/ 5 | Batch: 850 / 234.375  | Cost: 0.1245\n",
      "Epoch: 4/ 5 | Batch: 900 / 234.375  | Cost: 0.5202\n",
      "Epoch: 4/ 5 | Batch: 950 / 234.375  | Cost: 0.2977\n",
      "Epoch: 4/ 5 | Batch: 1000 / 234.375  | Cost: 0.4432\n",
      "Epoch: 4/ 5 | Batch: 1050 / 234.375  | Cost: 0.3007\n",
      "Epoch: 4/ 5 | Batch: 1100 / 234.375  | Cost: 0.2801\n",
      "Epoch: 4/ 5 | Batch: 1150 / 234.375  | Cost: 0.8412\n",
      "Epoch: 4/ 5 | Batch: 1200 / 234.375  | Cost: 0.1929\n",
      "Epoch: 4/ 5 | Batch: 1250 / 234.375  | Cost: 0.3164\n",
      "Epoch: 4/ 5 | Batch: 1300 / 234.375  | Cost: 0.3497\n",
      "Epoch: 4/ 5 | Batch: 1350 / 234.375  | Cost: 0.4884\n",
      "Epoch: 4/ 5 | Batch: 1400 / 234.375  | Cost: 0.3083\n",
      "Epoch: 4/ 5 | Batch: 1450 / 234.375  | Cost: 0.3073\n",
      "Epoch: 4/ 5 | Batch: 1500 / 234.375  | Cost: 0.3121\n",
      "Epoch: 4/ 5 | Batch: 1550 / 234.375  | Cost: 0.2391\n",
      "Epoch: 4/ 5 | Batch: 1600 / 234.375  | Cost: 0.3212\n",
      "Epoch: 4/ 5 | Batch: 1650 / 234.375  | Cost: 0.2113\n",
      "Epoch: 4/ 5 | Batch: 1700 / 234.375  | Cost: 0.2521\n",
      "Epoch: 4/ 5 | Batch: 1750 / 234.375  | Cost: 0.2610\n",
      "Epoch: 4/ 5 | Batch: 1800 / 234.375  | Cost: 0.3889\n",
      "Epoch: 4/ 5 | Batch: 1850 / 234.375  | Cost: 0.2688\n",
      "Epoch: 4/5 training accuracy: 90.3383\n",
      "Time elapsed:  424.0705428123474\n",
      "CPU times: total: 1min 35s\n",
      "Wall time: 1min 32s\n"
     ]
    }
   ],
   "source": [
    "%%time\n",
    "model=Softmax_regression().to(device)\n",
    "\n",
    "loss=train(model, epochs=5, lr=0.01)"
   ]
  },
  {
   "cell_type": "code",
   "execution_count": 31,
   "id": "d23d85dc",
   "metadata": {},
   "outputs": [],
   "source": [
    "import matplotlib.pyplot as plt"
   ]
  },
  {
   "cell_type": "code",
   "execution_count": 39,
   "id": "9188f05e",
   "metadata": {},
   "outputs": [
    {
     "data": {
      "image/png": "[encoded data removed]",
      "text/plain": [
       "<Figure size 640x480 with 1 Axes>"
      ]
     },
     "metadata": {},
     "output_type": "display_data"
    }
   ],
   "source": [
    "simple_list = [t.item() for t in loss]\n",
    "plt.plot(simple_list)\n",
    "plt.ylabel('Avg Cross Entropy Loss\\n(approximated by averaging over minibatches)')\n",
    "plt.xlabel('Epoch')\n",
    "plt.show()"
   ]
  },
  {
   "cell_type": "code",
   "execution_count": 41,
   "id": "8d397f12",
   "metadata": {},
   "outputs": [
    {
     "name": "stdout",
     "output_type": "stream",
     "text": [
      "Test accuracy: 90.87%\n"
     ]
    }
   ],
   "source": [
    "print('Test accuracy: %.2f%%' % (accuracy(model, test_loader)))"
   ]
  },
  {
   "cell_type": "code",
   "execution_count": null,
   "id": "4d2597c4",
   "metadata": {},
   "outputs": [],
   "source": []
  }
 ],
 "metadata": {
  "kernelspec": {
   "display_name": "env",
   "language": "python",
   "name": "python3"
  },
  "language_info": {
   "codemirror_mode": {
    "name": "ipython",
    "version": 3
   },
   "file_extension": ".py",
   "mimetype": "text/x-python",
   "name": "python",
   "nbconvert_exporter": "python",
   "pygments_lexer": "ipython3",
   "version": "3.13.3"
  }
 },
 "nbformat": 4,
 "nbformat_minor": 5
}
