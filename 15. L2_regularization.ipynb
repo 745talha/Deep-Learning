{
 "cells": [
  {
   "cell_type": "code",
   "execution_count": 1,
   "id": "e2d05f53",
   "metadata": {},
   "outputs": [],
   "source": [
    "import torch \n",
    "from torch.nn import functional\n",
    "import numpy as np\n",
    "import pandas as pd\n",
    "import matplotlib.pyplot as plt\n",
    "import math"
   ]
  },
  {
   "cell_type": "code",
   "execution_count": 30,
   "id": "87f56bff",
   "metadata": {},
   "outputs": [
    {
     "name": "stdout",
     "output_type": "stream",
     "text": [
      "len of X:  100\n",
      "len of y:  100\n",
      "[[5.1, 3.5], [4.9, 3.0], [4.7, 3.2], [4.6, 3.1], [5.0, 3.6]]\n",
      "[0, 0, 0, 0, 0]\n"
     ]
    }
   ],
   "source": [
    "#datset\n",
    "data=pd.read_csv(\"dataset/Iris.csv\")\n",
    "data = data[data[\"Species\"].isin(['Iris-setosa', 'Iris-versicolor'])]\n",
    "data['Species'] = data['Species'].map({'Iris-setosa': 0, 'Iris-versicolor': 1})\n",
    "X = data[['SepalLengthCm', 'SepalWidthCm']].values.tolist()\n",
    "y = list(data['Species'])\n",
    "print(\"len of X: \",len(X))\n",
    "print(\"len of y: \",len(y))\n",
    "print(X[:5])\n",
    "print(y[:5])\n",
    "X=torch.tensor(X,dtype=torch.float32)\n",
    "y=torch.tensor(y,dtype=torch.float32)\n",
    "torch.manual_seed(42)\n",
    "shuffle_indices= torch.randperm(len(y),dtype=torch.long)\n",
    "X=X[shuffle_indices]\n",
    "y=y[shuffle_indices]\n",
    "x_train,x_test=X[:70],X[70:]\n",
    "y_train,y_test=y[:70],y[70:]\n",
    "# Standarization\n",
    "mu = x_train.mean(dim=0)\n",
    "sigma = x_train.std(dim=0)\n",
    "X_train = (x_train - mu) / sigma\n",
    "X_test = (x_test - mu) / sigma"
   ]
  },
  {
   "cell_type": "code",
   "execution_count": 3,
   "id": "3129de79",
   "metadata": {},
   "outputs": [
    {
     "data": {
      "text/plain": [
       "device(type='cuda', index=0)"
      ]
     },
     "execution_count": 3,
     "metadata": {},
     "output_type": "execute_result"
    }
   ],
   "source": [
    "device = torch.device(\"cuda:0\" if torch.cuda.is_available() else \"cpu\")\n",
    "device"
   ]
  },
  {
   "cell_type": "code",
   "execution_count": 9,
   "id": "e557a6dc",
   "metadata": {},
   "outputs": [],
   "source": [
    "#L2 regularization manual\n",
    "class Logistic_regression(torch.nn.Module):\n",
    "    def __init__(self, num_features=2):\n",
    "        super(Logistic_regression, self).__init__()\n",
    "        self.layer=torch.nn.Linear(num_features,1)\n",
    "        self.layer.weight.detach().zero_()\n",
    "        self.layer.bias.detach().zero_()\n",
    "    \n",
    "    def forward(self, x):\n",
    "        logits=self.layer(x)\n",
    "        probs=functional.sigmoid(logits)\n",
    "        return probs\n",
    "\n",
    "def accuracy(y, pred_prob):\n",
    "    pred_prob=pred_prob.view(-1).float()\n",
    "    y_pred=torch.where(pred_prob >= 0.5, 1, 0)\n",
    "    acc=sum(p == t for p, t in zip(y_pred, y))/len(y)\n",
    "    return acc\n",
    "\n",
    "def train(X,y,model, epochs=10, lr=0.01):\n",
    "    loss_per_epoch=[]\n",
    "    LAMBDA=2\n",
    "    optimizer = torch.optim.SGD(model.parameters(), lr=lr) \n",
    "\n",
    "    for e in range(epochs):\n",
    "        y_pred=model(X)\n",
    "        loss=functional.binary_cross_entropy(y_pred, y, reduction='sum')\n",
    "        loss = loss + 0.5 * LAMBDA * torch.mm(model.layer.weight,model.layer.weight.t())\n",
    "        loss = loss + 0.5 * LAMBDA * model.layer.bias**2\n",
    "        optimizer.zero_grad()\n",
    "        loss.backward()\n",
    "        optimizer.step()\n",
    "        \n",
    "        y_pred=model(X)\n",
    "        acc=accuracy(y,y_pred).item()\n",
    "        loss=functional.binary_cross_entropy(y_pred, y)\n",
    "        print(f\"Epoch : {e}  ; Current loss: {loss}; Accuracy: {acc}\")\n",
    "        ls=loss.item()\n",
    "        loss_per_epoch.append(ls)\n",
    "    return loss_per_epoch\n",
    "\n"
   ]
  },
  {
   "cell_type": "code",
   "execution_count": 15,
   "id": "06479d9f",
   "metadata": {},
   "outputs": [
    {
     "name": "stderr",
     "output_type": "stream",
     "text": [
      "C:\\Users\\HP\\AppData\\Local\\Temp\\ipykernel_9208\\1240916426.py:2: UserWarning: To copy construct from a tensor, it is recommended to use sourceTensor.detach().clone() or sourceTensor.detach().clone().requires_grad_(True), rather than torch.tensor(sourceTensor).\n",
      "  X_train = torch.tensor(X_train, dtype=torch.float32, device=device)\n",
      "C:\\Users\\HP\\AppData\\Local\\Temp\\ipykernel_9208\\1240916426.py:3: UserWarning: To copy construct from a tensor, it is recommended to use sourceTensor.detach().clone() or sourceTensor.detach().clone().requires_grad_(True), rather than torch.tensor(sourceTensor).\n",
      "  y_train = torch.tensor(y_train, dtype=torch.float32, device=device).view(-1, 1)\n"
     ]
    },
    {
     "name": "stdout",
     "output_type": "stream",
     "text": [
      "Epoch : 0  ; Current loss: 0.5318381786346436; Accuracy: 1.0\n",
      "Epoch : 1  ; Current loss: 0.4319305419921875; Accuracy: 1.0\n",
      "Epoch : 2  ; Current loss: 0.3664754033088684; Accuracy: 1.0\n",
      "Epoch : 3  ; Current loss: 0.3209812641143799; Accuracy: 1.0\n",
      "Epoch : 4  ; Current loss: 0.2877541184425354; Accuracy: 1.0\n",
      "Epoch : 5  ; Current loss: 0.2625108063220978; Accuracy: 1.0\n",
      "Epoch : 6  ; Current loss: 0.2427254021167755; Accuracy: 1.0\n",
      "Epoch : 7  ; Current loss: 0.2268262654542923; Accuracy: 1.0\n",
      "Epoch : 8  ; Current loss: 0.213789165019989; Accuracy: 1.0\n",
      "Epoch : 9  ; Current loss: 0.20291969180107117; Accuracy: 1.0\n",
      "Epoch : 10  ; Current loss: 0.19373095035552979; Accuracy: 1.0\n",
      "Epoch : 11  ; Current loss: 0.18587185442447662; Accuracy: 1.0\n",
      "Epoch : 12  ; Current loss: 0.1790827065706253; Accuracy: 1.0\n",
      "Epoch : 13  ; Current loss: 0.1731674075126648; Accuracy: 1.0\n",
      "Epoch : 14  ; Current loss: 0.1679750382900238; Accuracy: 1.0\n",
      "Epoch : 15  ; Current loss: 0.16338762640953064; Accuracy: 1.0\n",
      "Epoch : 16  ; Current loss: 0.1593114584684372; Accuracy: 1.0\n",
      "Epoch : 17  ; Current loss: 0.15567123889923096; Accuracy: 1.0\n",
      "Epoch : 18  ; Current loss: 0.1524057239294052; Accuracy: 1.0\n",
      "Epoch : 19  ; Current loss: 0.14946459233760834; Accuracy: 1.0\n",
      "Epoch : 20  ; Current loss: 0.1468060314655304; Accuracy: 1.0\n",
      "Epoch : 21  ; Current loss: 0.14439517259597778; Accuracy: 1.0\n",
      "Epoch : 22  ; Current loss: 0.1422024667263031; Accuracy: 1.0\n",
      "Epoch : 23  ; Current loss: 0.14020292460918427; Accuracy: 1.0\n",
      "Epoch : 24  ; Current loss: 0.13837507367134094; Accuracy: 1.0\n",
      "Epoch : 25  ; Current loss: 0.1367005556821823; Accuracy: 1.0\n",
      "Epoch : 26  ; Current loss: 0.13516339659690857; Accuracy: 1.0\n",
      "Epoch : 27  ; Current loss: 0.13374972343444824; Accuracy: 1.0\n",
      "Epoch : 28  ; Current loss: 0.13244743645191193; Accuracy: 1.0\n",
      "Epoch : 29  ; Current loss: 0.1312459260225296; Accuracy: 1.0\n",
      "Epoch : 30  ; Current loss: 0.13013575971126556; Accuracy: 1.0\n",
      "Epoch : 31  ; Current loss: 0.12910866737365723; Accuracy: 1.0\n",
      "Epoch : 32  ; Current loss: 0.12815728783607483; Accuracy: 1.0\n",
      "Epoch : 33  ; Current loss: 0.1272750198841095; Accuracy: 1.0\n",
      "Epoch : 34  ; Current loss: 0.12645603716373444; Accuracy: 1.0\n",
      "Epoch : 35  ; Current loss: 0.12569500505924225; Accuracy: 1.0\n",
      "Epoch : 36  ; Current loss: 0.12498725205659866; Accuracy: 1.0\n",
      "Epoch : 37  ; Current loss: 0.12432844936847687; Accuracy: 1.0\n",
      "Epoch : 38  ; Current loss: 0.12371477484703064; Accuracy: 1.0\n",
      "Epoch : 39  ; Current loss: 0.12314268946647644; Accuracy: 1.0\n",
      "Epoch : 40  ; Current loss: 0.12260904163122177; Accuracy: 1.0\n",
      "Epoch : 41  ; Current loss: 0.12211094051599503; Accuracy: 1.0\n",
      "Epoch : 42  ; Current loss: 0.1216457337141037; Accuracy: 1.0\n",
      "Epoch : 43  ; Current loss: 0.12121102213859558; Accuracy: 1.0\n",
      "Epoch : 44  ; Current loss: 0.12080459296703339; Accuracy: 1.0\n",
      "Epoch : 45  ; Current loss: 0.12042440474033356; Accuracy: 1.0\n",
      "Epoch : 46  ; Current loss: 0.12006866186857224; Accuracy: 1.0\n",
      "Epoch : 47  ; Current loss: 0.11973560601472855; Accuracy: 1.0\n",
      "Epoch : 48  ; Current loss: 0.11942365020513535; Accuracy: 1.0\n",
      "Epoch : 49  ; Current loss: 0.11913140118122101; Accuracy: 1.0\n",
      "Epoch : 50  ; Current loss: 0.11885751038789749; Accuracy: 1.0\n",
      "Epoch : 51  ; Current loss: 0.11860071122646332; Accuracy: 1.0\n",
      "Epoch : 52  ; Current loss: 0.11835989356040955; Accuracy: 1.0\n",
      "Epoch : 53  ; Current loss: 0.11813399195671082; Accuracy: 1.0\n",
      "Epoch : 54  ; Current loss: 0.11792202293872833; Accuracy: 1.0\n",
      "Epoch : 55  ; Current loss: 0.11772307008504868; Accuracy: 1.0\n",
      "Epoch : 56  ; Current loss: 0.11753629893064499; Accuracy: 1.0\n",
      "Epoch : 57  ; Current loss: 0.11736093461513519; Accuracy: 1.0\n",
      "Epoch : 58  ; Current loss: 0.1171962171792984; Accuracy: 1.0\n",
      "Epoch : 59  ; Current loss: 0.11704150587320328; Accuracy: 1.0\n",
      "Epoch : 60  ; Current loss: 0.1168961375951767; Accuracy: 1.0\n",
      "Epoch : 61  ; Current loss: 0.11675954610109329; Accuracy: 1.0\n",
      "Epoch : 62  ; Current loss: 0.11663118004798889; Accuracy: 1.0\n",
      "Epoch : 63  ; Current loss: 0.11651048809289932; Accuracy: 1.0\n",
      "Epoch : 64  ; Current loss: 0.11639703810214996; Accuracy: 1.0\n",
      "Epoch : 65  ; Current loss: 0.1162903681397438; Accuracy: 1.0\n",
      "Epoch : 66  ; Current loss: 0.11619003862142563; Accuracy: 1.0\n",
      "Epoch : 67  ; Current loss: 0.11609569191932678; Accuracy: 1.0\n",
      "Epoch : 68  ; Current loss: 0.11600694805383682; Accuracy: 1.0\n",
      "Epoch : 69  ; Current loss: 0.1159234568476677; Accuracy: 1.0\n",
      "Epoch : 70  ; Current loss: 0.11584492027759552; Accuracy: 1.0\n",
      "Epoch : 71  ; Current loss: 0.11577102541923523; Accuracy: 1.0\n",
      "Epoch : 72  ; Current loss: 0.11570148169994354; Accuracy: 1.0\n",
      "Epoch : 73  ; Current loss: 0.11563602089881897; Accuracy: 1.0\n",
      "Epoch : 74  ; Current loss: 0.1155744269490242; Accuracy: 1.0\n",
      "Epoch : 75  ; Current loss: 0.11551646888256073; Accuracy: 1.0\n",
      "Epoch : 76  ; Current loss: 0.11546189337968826; Accuracy: 1.0\n",
      "Epoch : 77  ; Current loss: 0.11541053652763367; Accuracy: 1.0\n",
      "Epoch : 78  ; Current loss: 0.11536218225955963; Accuracy: 1.0\n",
      "Epoch : 79  ; Current loss: 0.11531666666269302; Accuracy: 1.0\n",
      "Epoch : 80  ; Current loss: 0.11527378857135773; Accuracy: 1.0\n",
      "Epoch : 81  ; Current loss: 0.11523343622684479; Accuracy: 1.0\n",
      "Epoch : 82  ; Current loss: 0.11519540846347809; Accuracy: 1.0\n",
      "Epoch : 83  ; Current loss: 0.11515962332487106; Accuracy: 1.0\n",
      "Epoch : 84  ; Current loss: 0.11512593179941177; Accuracy: 1.0\n",
      "Epoch : 85  ; Current loss: 0.11509418487548828; Accuracy: 1.0\n",
      "Epoch : 86  ; Current loss: 0.11506429314613342; Accuracy: 1.0\n",
      "Epoch : 87  ; Current loss: 0.11503613740205765; Accuracy: 1.0\n",
      "Epoch : 88  ; Current loss: 0.115009605884552; Accuracy: 1.0\n",
      "Epoch : 89  ; Current loss: 0.11498462408781052; Accuracy: 1.0\n",
      "Epoch : 90  ; Current loss: 0.11496109515428543; Accuracy: 1.0\n",
      "Epoch : 91  ; Current loss: 0.11493892967700958; Accuracy: 1.0\n",
      "Epoch : 92  ; Current loss: 0.114918053150177; Accuracy: 1.0\n",
      "Epoch : 93  ; Current loss: 0.11489838361740112; Accuracy: 1.0\n",
      "Epoch : 94  ; Current loss: 0.11487985402345657; Accuracy: 1.0\n",
      "Epoch : 95  ; Current loss: 0.11486238986253738; Accuracy: 1.0\n",
      "Epoch : 96  ; Current loss: 0.11484593152999878; Accuracy: 1.0\n",
      "Epoch : 97  ; Current loss: 0.11483042687177658; Accuracy: 1.0\n",
      "Epoch : 98  ; Current loss: 0.11481582373380661; Accuracy: 1.0\n",
      "Epoch : 99  ; Current loss: 0.11480207741260529; Accuracy: 1.0\n"
     ]
    }
   ],
   "source": [
    "model1=Logistic_regression().to(device)\n",
    "X_train = torch.tensor(X_train, dtype=torch.float32, device=device)\n",
    "y_train = torch.tensor(y_train, dtype=torch.float32, device=device).view(-1, 1)\n",
    "loss=train(X_train,y_train,model1, epochs=100)"
   ]
  },
  {
   "cell_type": "code",
   "execution_count": 23,
   "id": "e0872325",
   "metadata": {},
   "outputs": [
    {
     "name": "stdout",
     "output_type": "stream",
     "text": [
      "weight:  Parameter containing:\n",
      "tensor([[ 1.8123, -1.7235]], device='cuda:0', requires_grad=True)\n",
      "bias:  Parameter containing:\n",
      "tensor([0.2421], device='cuda:0', requires_grad=True)\n"
     ]
    }
   ],
   "source": [
    "print(\"weight: \",model1.layer.weight)\n",
    "print(\"bias: \",model1.layer.bias)"
   ]
  },
  {
   "cell_type": "code",
   "execution_count": 12,
   "id": "10e7f7f0",
   "metadata": {},
   "outputs": [
    {
     "data": {
      "image/png": "[encoded data removed]",
      "text/plain": [
       "<Figure size 640x480 with 1 Axes>"
      ]
     },
     "metadata": {},
     "output_type": "display_data"
    }
   ],
   "source": [
    "plt.plot(range(len(loss)), loss)\n",
    "plt.ylabel('Mean Square Error')\n",
    "plt.xlabel('Epochs')\n",
    "plt.show()"
   ]
  },
  {
   "cell_type": "code",
   "execution_count": 22,
   "id": "786ba962",
   "metadata": {},
   "outputs": [
    {
     "data": {
      "image/png": "[encoded data removed]",
      "text/plain": [
       "<Figure size 700x300 with 2 Axes>"
      ]
     },
     "metadata": {},
     "output_type": "display_data"
    }
   ],
   "source": [
    "w, b = model1.layer.weight.detach().view(-1), model1.layer.bias.detach()\n",
    "x_min = -2\n",
    "y_min = ( (-(w[0] * x_min) - b[0]) \n",
    "          / w[1] ).item()\n",
    "\n",
    "x_max = 2\n",
    "y_max = ( (-(w[0] * x_max) - b[0]) \n",
    "          / w[1] ).item()\n",
    "\n",
    "\n",
    "fig, ax = plt.subplots(1, 2, sharex=True, figsize=(7, 3))\n",
    "ax[0].plot([x_min, x_max], [y_min, y_max])\n",
    "ax[1].plot([x_min, x_max], [y_min, y_max])\n",
    "x_train_plt=X_train.to('cpu')\n",
    "x_test_plt=X_test.to('cpu')\n",
    "y_test_plt=y_test.to('cpu')\n",
    "y_train_plt=y_train.to('cpu')\n",
    "ax[0].scatter(x_train_plt[y_train_plt==0, 0], x_train_plt[y_train_plt==0, 1], label='class 0', marker='o')\n",
    "ax[0].scatter(x_train_plt[y_train_plt==1, 0], x_train_plt[y_train_plt==1, 1], label='class 1', marker='s')\n",
    "\n",
    "ax[1].scatter(x_test_plt[y_test_plt==0, 0], x_test_plt[y_test_plt==0, 1], label='class 0', marker='o')\n",
    "ax[1].scatter(x_test_plt[y_test_plt==1, 0], x_test_plt[y_test_plt==1, 1], label='class 1', marker='s')\n",
    "\n",
    "ax[1].legend(loc='upper left')\n",
    "plt.show()"
   ]
  },
  {
   "cell_type": "code",
   "execution_count": 34,
   "id": "3f1408cf",
   "metadata": {},
   "outputs": [
    {
     "name": "stdout",
     "output_type": "stream",
     "text": [
      "Correct :  29\n",
      "Wrong:  1\n",
      "Accuracy:  0.9666666666666667\n"
     ]
    }
   ],
   "source": [
    "test_results=model1(X_test.to(device))\n",
    "test_class=[1 if i>=0.5 else 0 for i in test_results]\n",
    "correct= sum(p == t for p, t in zip(test_class, y_test))\n",
    "print(\"Correct : \",correct.tolist())\n",
    "print(\"Wrong: \",len(y_test)-correct.item())\n",
    "print(\"Accuracy: \", correct.item()/len(y_test) )\n"
   ]
  },
  {
   "cell_type": "code",
   "execution_count": 27,
   "id": "d34f0aca",
   "metadata": {},
   "outputs": [],
   "source": [
    "#L2 regularization by weight decay in optimizer\n",
    "class Logistic_regression2(torch.nn.Module):\n",
    "    def __init__(self, num_features=2):\n",
    "        super(Logistic_regression2, self).__init__()\n",
    "        self.layer=torch.nn.Linear(num_features,1)\n",
    "        self.layer.weight.detach().zero_()\n",
    "        self.layer.bias.detach().zero_()\n",
    "    \n",
    "    def forward(self, x):\n",
    "        logits=self.layer(x)\n",
    "        probs=functional.sigmoid(logits)\n",
    "        return probs\n",
    "\n",
    "def accuracy(y, pred_prob):\n",
    "    pred_prob=pred_prob.view(-1).float()\n",
    "    y_pred=torch.where(pred_prob >= 0.5, 1, 0)\n",
    "    acc=sum(p == t for p, t in zip(y_pred, y))/len(y)\n",
    "    return acc\n",
    "\n",
    "def train(X,y,model, epochs=10, lr=0.01):\n",
    "    loss_per_epoch=[]\n",
    "    LAMBDA=2\n",
    "    optimizer = torch.optim.SGD(model.parameters(), lr=lr,weight_decay=LAMBDA) \n",
    "\n",
    "    for e in range(epochs):\n",
    "        y_pred=model(X)\n",
    "        loss=functional.binary_cross_entropy(y_pred, y, reduction='sum')\n",
    "        loss = loss + 0.5 * LAMBDA * torch.mm(model.layer.weight,model.layer.weight.t())\n",
    "        loss = loss + 0.5 * LAMBDA * model.layer.bias**2\n",
    "        optimizer.zero_grad()\n",
    "        loss.backward()\n",
    "        optimizer.step()\n",
    "        \n",
    "        y_pred=model(X)\n",
    "        acc=accuracy(y,y_pred).item()\n",
    "        loss=functional.binary_cross_entropy(y_pred, y)\n",
    "        print(f\"Epoch : {e}  ; Current loss: {loss}; Accuracy: {acc}\")\n",
    "        ls=loss.item()\n",
    "        loss_per_epoch.append(ls)\n",
    "    return loss_per_epoch\n",
    "\n"
   ]
  },
  {
   "cell_type": "code",
   "execution_count": 28,
   "id": "420e5b1b",
   "metadata": {},
   "outputs": [
    {
     "name": "stderr",
     "output_type": "stream",
     "text": [
      "C:\\Users\\HP\\AppData\\Local\\Temp\\ipykernel_9208\\33056932.py:2: UserWarning: To copy construct from a tensor, it is recommended to use sourceTensor.detach().clone() or sourceTensor.detach().clone().requires_grad_(True), rather than torch.tensor(sourceTensor).\n",
      "  X_train = torch.tensor(X_train, dtype=torch.float32, device=device)\n",
      "C:\\Users\\HP\\AppData\\Local\\Temp\\ipykernel_9208\\33056932.py:3: UserWarning: To copy construct from a tensor, it is recommended to use sourceTensor.detach().clone() or sourceTensor.detach().clone().requires_grad_(True), rather than torch.tensor(sourceTensor).\n",
      "  y_train = torch.tensor(y_train, dtype=torch.float32, device=device).view(-1, 1)\n"
     ]
    },
    {
     "name": "stdout",
     "output_type": "stream",
     "text": [
      "Epoch : 0  ; Current loss: 0.5318381786346436; Accuracy: 1.0\n",
      "Epoch : 1  ; Current loss: 0.4342666268348694; Accuracy: 1.0\n",
      "Epoch : 2  ; Current loss: 0.371529221534729; Accuracy: 1.0\n",
      "Epoch : 3  ; Current loss: 0.3286295235157013; Accuracy: 1.0\n",
      "Epoch : 4  ; Current loss: 0.2977800965309143; Accuracy: 1.0\n",
      "Epoch : 5  ; Current loss: 0.274706095457077; Accuracy: 1.0\n",
      "Epoch : 6  ; Current loss: 0.25690993666648865; Accuracy: 1.0\n",
      "Epoch : 7  ; Current loss: 0.24284793436527252; Accuracy: 1.0\n",
      "Epoch : 8  ; Current loss: 0.23151926696300507; Accuracy: 1.0\n",
      "Epoch : 9  ; Current loss: 0.22224801778793335; Accuracy: 1.0\n",
      "Epoch : 10  ; Current loss: 0.21456195414066315; Accuracy: 1.0\n",
      "Epoch : 11  ; Current loss: 0.2081213742494583; Accuracy: 1.0\n",
      "Epoch : 12  ; Current loss: 0.20267565548419952; Accuracy: 1.0\n",
      "Epoch : 13  ; Current loss: 0.1980360895395279; Accuracy: 1.0\n",
      "Epoch : 14  ; Current loss: 0.19405756890773773; Accuracy: 1.0\n",
      "Epoch : 15  ; Current loss: 0.19062699377536774; Accuracy: 1.0\n",
      "Epoch : 16  ; Current loss: 0.18765468895435333; Accuracy: 1.0\n",
      "Epoch : 17  ; Current loss: 0.1850687712430954; Accuracy: 1.0\n",
      "Epoch : 18  ; Current loss: 0.18281088769435883; Accuracy: 1.0\n",
      "Epoch : 19  ; Current loss: 0.18083325028419495; Accuracy: 1.0\n",
      "Epoch : 20  ; Current loss: 0.1790962517261505; Accuracy: 1.0\n",
      "Epoch : 21  ; Current loss: 0.17756696045398712; Accuracy: 1.0\n",
      "Epoch : 22  ; Current loss: 0.1762176901102066; Accuracy: 1.0\n",
      "Epoch : 23  ; Current loss: 0.17502495646476746; Accuracy: 1.0\n",
      "Epoch : 24  ; Current loss: 0.17396888136863708; Accuracy: 1.0\n",
      "Epoch : 25  ; Current loss: 0.17303244769573212; Accuracy: 1.0\n",
      "Epoch : 26  ; Current loss: 0.172201007604599; Accuracy: 1.0\n",
      "Epoch : 27  ; Current loss: 0.17146189510822296; Accuracy: 1.0\n",
      "Epoch : 28  ; Current loss: 0.1708042323589325; Accuracy: 1.0\n",
      "Epoch : 29  ; Current loss: 0.17021846771240234; Accuracy: 1.0\n",
      "Epoch : 30  ; Current loss: 0.16969631612300873; Accuracy: 1.0\n",
      "Epoch : 31  ; Current loss: 0.16923055052757263; Accuracy: 1.0\n",
      "Epoch : 32  ; Current loss: 0.1688147932291031; Accuracy: 1.0\n",
      "Epoch : 33  ; Current loss: 0.1684434562921524; Accuracy: 1.0\n",
      "Epoch : 34  ; Current loss: 0.16811160743236542; Accuracy: 1.0\n",
      "Epoch : 35  ; Current loss: 0.1678149402141571; Accuracy: 1.0\n",
      "Epoch : 36  ; Current loss: 0.16754958033561707; Accuracy: 1.0\n",
      "Epoch : 37  ; Current loss: 0.1673121452331543; Accuracy: 1.0\n",
      "Epoch : 38  ; Current loss: 0.16709962487220764; Accuracy: 1.0\n",
      "Epoch : 39  ; Current loss: 0.166909322142601; Accuracy: 1.0\n",
      "Epoch : 40  ; Current loss: 0.16673891246318817; Accuracy: 1.0\n",
      "Epoch : 41  ; Current loss: 0.1665862500667572; Accuracy: 1.0\n",
      "Epoch : 42  ; Current loss: 0.16644947230815887; Accuracy: 1.0\n",
      "Epoch : 43  ; Current loss: 0.1663268506526947; Accuracy: 1.0\n",
      "Epoch : 44  ; Current loss: 0.16621695458889008; Accuracy: 1.0\n",
      "Epoch : 45  ; Current loss: 0.16611842811107635; Accuracy: 1.0\n",
      "Epoch : 46  ; Current loss: 0.16603009402751923; Accuracy: 1.0\n",
      "Epoch : 47  ; Current loss: 0.16595086455345154; Accuracy: 1.0\n",
      "Epoch : 48  ; Current loss: 0.16587981581687927; Accuracy: 1.0\n",
      "Epoch : 49  ; Current loss: 0.16581608355045319; Accuracy: 1.0\n",
      "Epoch : 50  ; Current loss: 0.1657588928937912; Accuracy: 1.0\n",
      "Epoch : 51  ; Current loss: 0.16570758819580078; Accuracy: 1.0\n",
      "Epoch : 52  ; Current loss: 0.16566157341003418; Accuracy: 1.0\n",
      "Epoch : 53  ; Current loss: 0.16562025249004364; Accuracy: 1.0\n",
      "Epoch : 54  ; Current loss: 0.16558317840099335; Accuracy: 1.0\n",
      "Epoch : 55  ; Current loss: 0.16554991900920868; Accuracy: 1.0\n",
      "Epoch : 56  ; Current loss: 0.1655200570821762; Accuracy: 1.0\n",
      "Epoch : 57  ; Current loss: 0.16549326479434967; Accuracy: 1.0\n",
      "Epoch : 58  ; Current loss: 0.1654691994190216; Accuracy: 1.0\n",
      "Epoch : 59  ; Current loss: 0.16544759273529053; Accuracy: 1.0\n",
      "Epoch : 60  ; Current loss: 0.16542822122573853; Accuracy: 1.0\n",
      "Epoch : 61  ; Current loss: 0.16541080176830292; Accuracy: 1.0\n",
      "Epoch : 62  ; Current loss: 0.16539517045021057; Accuracy: 1.0\n",
      "Epoch : 63  ; Current loss: 0.16538114845752716; Accuracy: 1.0\n",
      "Epoch : 64  ; Current loss: 0.16536852717399597; Accuracy: 1.0\n",
      "Epoch : 65  ; Current loss: 0.16535721719264984; Accuracy: 1.0\n",
      "Epoch : 66  ; Current loss: 0.16534705460071564; Accuracy: 1.0\n",
      "Epoch : 67  ; Current loss: 0.1653379648923874; Accuracy: 1.0\n",
      "Epoch : 68  ; Current loss: 0.16532976925373077; Accuracy: 1.0\n",
      "Epoch : 69  ; Current loss: 0.165322408080101; Accuracy: 1.0\n",
      "Epoch : 70  ; Current loss: 0.16531582176685333; Accuracy: 1.0\n",
      "Epoch : 71  ; Current loss: 0.165309876203537; Accuracy: 1.0\n",
      "Epoch : 72  ; Current loss: 0.16530455648899078; Accuracy: 1.0\n",
      "Epoch : 73  ; Current loss: 0.16529977321624756; Accuracy: 1.0\n",
      "Epoch : 74  ; Current loss: 0.16529546678066254; Accuracy: 1.0\n",
      "Epoch : 75  ; Current loss: 0.16529159247875214; Accuracy: 1.0\n",
      "Epoch : 76  ; Current loss: 0.16528813540935516; Accuracy: 1.0\n",
      "Epoch : 77  ; Current loss: 0.16528500616550446; Accuracy: 1.0\n",
      "Epoch : 78  ; Current loss: 0.1652822196483612; Accuracy: 1.0\n",
      "Epoch : 79  ; Current loss: 0.16527971625328064; Accuracy: 1.0\n",
      "Epoch : 80  ; Current loss: 0.16527745127677917; Accuracy: 1.0\n",
      "Epoch : 81  ; Current loss: 0.1652754247188568; Accuracy: 1.0\n",
      "Epoch : 82  ; Current loss: 0.16527360677719116; Accuracy: 1.0\n",
      "Epoch : 83  ; Current loss: 0.16527196764945984; Accuracy: 1.0\n",
      "Epoch : 84  ; Current loss: 0.16527049243450165; Accuracy: 1.0\n",
      "Epoch : 85  ; Current loss: 0.1652691811323166; Accuracy: 1.0\n",
      "Epoch : 86  ; Current loss: 0.16526800394058228; Accuracy: 1.0\n",
      "Epoch : 87  ; Current loss: 0.16526693105697632; Accuracy: 1.0\n",
      "Epoch : 88  ; Current loss: 0.16526596248149872; Accuracy: 1.0\n",
      "Epoch : 89  ; Current loss: 0.16526511311531067; Accuracy: 1.0\n",
      "Epoch : 90  ; Current loss: 0.1652643233537674; Accuracy: 1.0\n",
      "Epoch : 91  ; Current loss: 0.16526363790035248; Accuracy: 1.0\n",
      "Epoch : 92  ; Current loss: 0.16526301205158234; Accuracy: 1.0\n",
      "Epoch : 93  ; Current loss: 0.16526247560977936; Accuracy: 1.0\n",
      "Epoch : 94  ; Current loss: 0.16526196897029877; Accuracy: 1.0\n",
      "Epoch : 95  ; Current loss: 0.16526149213314056; Accuracy: 1.0\n",
      "Epoch : 96  ; Current loss: 0.16526108980178833; Accuracy: 1.0\n",
      "Epoch : 97  ; Current loss: 0.16526073217391968; Accuracy: 1.0\n",
      "Epoch : 98  ; Current loss: 0.1652604043483734; Accuracy: 1.0\n",
      "Epoch : 99  ; Current loss: 0.16526010632514954; Accuracy: 1.0\n"
     ]
    }
   ],
   "source": [
    "model2=Logistic_regression2().to(device)\n",
    "X_train = torch.tensor(X_train, dtype=torch.float32, device=device)\n",
    "y_train = torch.tensor(y_train, dtype=torch.float32, device=device).view(-1, 1)\n",
    "loss=train(X_train,y_train,model2, epochs=100)"
   ]
  },
  {
   "cell_type": "code",
   "execution_count": 31,
   "id": "6c504e74",
   "metadata": {},
   "outputs": [
    {
     "data": {
      "image/png": "[encoded data removed]",
      "text/plain": [
       "<Figure size 700x300 with 2 Axes>"
      ]
     },
     "metadata": {},
     "output_type": "display_data"
    }
   ],
   "source": [
    "w, b = model1.layer.weight.detach().view(-1), model1.layer.bias.detach()\n",
    "x_min = -2\n",
    "y_min = ( (-(w[0] * x_min) - b[0]) \n",
    "          / w[1] ).item()\n",
    "\n",
    "x_max = 2\n",
    "y_max = ( (-(w[0] * x_max) - b[0]) \n",
    "          / w[1] ).item()\n",
    "\n",
    "\n",
    "fig, ax = plt.subplots(1, 2, sharex=True, figsize=(7, 3))\n",
    "ax[0].plot([x_min, x_max], [y_min, y_max])\n",
    "ax[1].plot([x_min, x_max], [y_min, y_max])\n",
    "x_train_plt=X_train.to('cpu')\n",
    "x_test_plt=X_test.to('cpu')\n",
    "y_test_plt=y_test.to('cpu')\n",
    "y_train_plt=y_train.to('cpu')\n",
    "ax[0].scatter(x_train_plt[y_train_plt==0, 0], x_train_plt[y_train_plt==0, 1], label='class 0', marker='o')\n",
    "ax[0].scatter(x_train_plt[y_train_plt==1, 0], x_train_plt[y_train_plt==1, 1], label='class 1', marker='s')\n",
    "\n",
    "ax[1].scatter(x_test_plt[y_test_plt==0, 0], x_test_plt[y_test_plt==0, 1], label='class 0', marker='o')\n",
    "ax[1].scatter(x_test_plt[y_test_plt==1, 0], x_test_plt[y_test_plt==1, 1], label='class 1', marker='s')\n",
    "\n",
    "ax[1].legend(loc='upper left')\n",
    "plt.show()"
   ]
  },
  {
   "cell_type": "code",
   "execution_count": 33,
   "id": "bc38bb27",
   "metadata": {},
   "outputs": [
    {
     "name": "stdout",
     "output_type": "stream",
     "text": [
      "Correct :  29\n",
      "Wrong:  1\n",
      "Accuracy:  0.9666666666666667\n"
     ]
    }
   ],
   "source": [
    "test_results=model2(X_test.to(device))\n",
    "test_class=[1 if i>=0.5 else 0 for i in test_results]\n",
    "correct= sum(p == t for p, t in zip(test_class, y_test))\n",
    "print(\"Correct : \",correct.tolist())\n",
    "print(\"Wrong: \",len(y_test)-correct.item())\n",
    "print(\"Accuracy: \", correct.item()/len(y_test) )\n"
   ]
  },
  {
   "cell_type": "code",
   "execution_count": null,
   "id": "d330965e",
   "metadata": {},
   "outputs": [],
   "source": []
  }
 ],
 "metadata": {
  "kernelspec": {
   "display_name": "env",
   "language": "python",
   "name": "python3"
  },
  "language_info": {
   "codemirror_mode": {
    "name": "ipython",
    "version": 3
   },
   "file_extension": ".py",
   "mimetype": "text/x-python",
   "name": "python",
   "nbconvert_exporter": "python",
   "pygments_lexer": "ipython3",
   "version": "3.13.3"
  }
 },
 "nbformat": 4,
 "nbformat_minor": 5
}
