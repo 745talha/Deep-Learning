{
 "cells": [
  {
   "cell_type": "code",
   "execution_count": 1,
   "id": "677714dd",
   "metadata": {},
   "outputs": [],
   "source": [
    "import torch"
   ]
  },
  {
   "cell_type": "code",
   "execution_count": null,
   "id": "ba369cfc",
   "metadata": {},
   "outputs": [],
   "source": [
    "#one hot encoding\n",
    "def one_hot_encode(y, classes):\n",
    "    one_hot=torch.zeros(len(y), classes)\n",
    "    one_hot.scatter_(1,y.view(-1,1),1).float()\n",
    "    return one_hot"
   ]
  },
  {
   "cell_type": "code",
   "execution_count": 13,
   "id": "b38e4969",
   "metadata": {},
   "outputs": [
    {
     "name": "stdout",
     "output_type": "stream",
     "text": [
      "tensor([[1., 0., 0.],\n",
      "        [0., 1., 0.],\n",
      "        [0., 0., 1.],\n",
      "        [0., 0., 1.]])\n"
     ]
    }
   ],
   "source": [
    "y = torch.tensor([0, 1, 2, 2])\n",
    "y_enc = one_hot_encode(y, 3)\n",
    "print(y_enc)"
   ]
  },
  {
   "cell_type": "code",
   "execution_count": 54,
   "id": "0928bde8",
   "metadata": {},
   "outputs": [],
   "source": [
    "def softmax(x):\n",
    "    softm=(torch.exp(x.t())/torch.sum(torch.exp(x), dim=1)).t()\n",
    "    return softm\n",
    "\n",
    "\n",
    "x=torch.tensor(\n",
    "    [[-0.1, -0.5, -0.5],\n",
    "     [-3, -1.0, -2.6],\n",
    "     [-2.5, -0.5, -0.3],\n",
    "     [-2.5, -0.5, -0.1]])\n",
    "res=softmax(x)"
   ]
  },
  {
   "cell_type": "code",
   "execution_count": 58,
   "id": "f01dab25",
   "metadata": {},
   "outputs": [
    {
     "name": "stdout",
     "output_type": "stream",
     "text": [
      "tensor([[0.4272, 0.2864, 0.2864],\n",
      "        [0.1012, 0.7478, 0.1510],\n",
      "        [0.0574, 0.4243, 0.5183],\n",
      "        [0.0515, 0.3806, 0.5678]])\n"
     ]
    }
   ],
   "source": [
    "print(res)"
   ]
  },
  {
   "cell_type": "code",
   "execution_count": 56,
   "id": "6a25ea4c",
   "metadata": {},
   "outputs": [
    {
     "data": {
      "text/plain": [
       "tensor(3)"
      ]
     },
     "execution_count": 56,
     "metadata": {},
     "output_type": "execute_result"
    }
   ],
   "source": [
    "z=torch.tensor([0,1,1,2])\n",
    "torch.argmax(z)"
   ]
  },
  {
   "cell_type": "code",
   "execution_count": 57,
   "id": "bdd8da63",
   "metadata": {},
   "outputs": [
    {
     "name": "stdout",
     "output_type": "stream",
     "text": [
      "tensor([[-0.8504, -0.0000, -0.0000],\n",
      "        [-0.0000, -0.2906, -0.0000],\n",
      "        [-0.0000, -0.0000, -0.6573],\n",
      "        [-0.0000, -0.0000, -0.5659]])\n",
      "Cross Entropy: tensor([0.8504, 0.2906, 0.6573, 0.5659])\n"
     ]
    }
   ],
   "source": [
    "def cross_entropy(res, y_enc):\n",
    "    print(torch.log(res) * (y_enc))\n",
    "    return - torch.sum(torch.log(res) * (y_enc), dim=1)\n",
    "\n",
    "xent = cross_entropy(res, y_enc)\n",
    "print('Cross Entropy:', xent)"
   ]
  },
  {
   "cell_type": "code",
   "execution_count": 61,
   "id": "e0013cc3",
   "metadata": {},
   "outputs": [],
   "source": [
    "# Auto way to calculate in pytorch\n",
    "from torch.nn import functional"
   ]
  },
  {
   "cell_type": "code",
   "execution_count": 64,
   "id": "43bc892c",
   "metadata": {},
   "outputs": [
    {
     "data": {
      "text/plain": [
       "tensor([0.8504, 0.2906, 0.6573, 0.5659])"
      ]
     },
     "execution_count": 64,
     "metadata": {},
     "output_type": "execute_result"
    }
   ],
   "source": [
    "functional.nll_loss(torch.log(res), y, reduction='none')"
   ]
  },
  {
   "cell_type": "code",
   "execution_count": null,
   "id": "e2f9899b",
   "metadata": {},
   "outputs": [
    {
     "data": {
      "text/plain": [
       "tensor(2.3642)"
      ]
     },
     "execution_count": 68,
     "metadata": {},
     "output_type": "execute_result"
    }
   ],
   "source": [
    "functional.cross_entropy(x, y, reduction='sum')"
   ]
  }
 ],
 "metadata": {
  "kernelspec": {
   "display_name": "env",
   "language": "python",
   "name": "python3"
  },
  "language_info": {
   "codemirror_mode": {
    "name": "ipython",
    "version": 3
   },
   "file_extension": ".py",
   "mimetype": "text/x-python",
   "name": "python",
   "nbconvert_exporter": "python",
   "pygments_lexer": "ipython3",
   "version": "3.13.3"
  }
 },
 "nbformat": 4,
 "nbformat_minor": 5
}
