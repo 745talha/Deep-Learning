{
 "cells": [
  {
   "cell_type": "code",
   "execution_count": 13,
   "id": "ce0a6f21",
   "metadata": {},
   "outputs": [],
   "source": [
    "import torch\n",
    "from torch.nn import functional\n",
    "import matplotlib.pyplot as plt\n",
    "import numpy as np\n",
    "import pandas as pd"
   ]
  },
  {
   "cell_type": "code",
   "execution_count": 14,
   "id": "b799c1c5",
   "metadata": {},
   "outputs": [
    {
     "name": "stdout",
     "output_type": "stream",
     "text": [
      "len of X:  150\n",
      "len of y:  150\n",
      "[[5.1, 3.5], [4.9, 3.0], [4.7, 3.2], [4.6, 3.1], [5.0, 3.6]]\n",
      "[0, 0, 0, 0, 0]\n"
     ]
    }
   ],
   "source": [
    "#datset\n",
    "data=pd.read_csv(\"dataset/Iris.csv\")\n",
    "data['Species'] = data['Species'].map({'Iris-setosa': 0, 'Iris-versicolor': 1, 'Iris-virginica':2})\n",
    "X = data[['SepalLengthCm', 'SepalWidthCm']].values.tolist()\n",
    "y = list(data['Species'])\n",
    "print(\"len of X: \",len(X))\n",
    "print(\"len of y: \",len(y))\n",
    "print(X[:5])\n",
    "print(y[:5])\n",
    "X=torch.tensor(X,dtype=torch.float32)\n",
    "y=torch.tensor(y,dtype=torch.float32)\n",
    "torch.manual_seed(42)\n",
    "shuffle_indices= torch.randperm(len(y),dtype=torch.long)\n",
    "X=X[shuffle_indices]\n",
    "y=y[shuffle_indices]\n",
    "x_train,x_test=X[:120],X[120:]\n",
    "y_train,y_test=y[:120],y[120:]\n",
    "# Standarization\n",
    "mu = x_train.mean(dim=0)\n",
    "sigma = x_train.std(dim=0)\n",
    "X_train = (x_train - mu) / sigma\n",
    "X_test = (x_test - mu) / sigma"
   ]
  },
  {
   "cell_type": "code",
   "execution_count": 15,
   "id": "883025e6",
   "metadata": {},
   "outputs": [
    {
     "data": {
      "text/plain": [
       "device(type='cuda', index=0)"
      ]
     },
     "execution_count": 15,
     "metadata": {},
     "output_type": "execute_result"
    }
   ],
   "source": [
    "device = torch.device(\"cuda:0\" if torch.cuda.is_available() else \"cpu\")\n",
    "device\n",
    "# device='cpu'"
   ]
  },
  {
   "cell_type": "code",
   "execution_count": 16,
   "id": "d9fcb647",
   "metadata": {},
   "outputs": [],
   "source": [
    "class softmax_regression_manual():\n",
    "    def __init__(self, features=2, classes=3):\n",
    "        self.features=features\n",
    "        self.classes=classes\n",
    "        self.weights=torch.zeros(self.classes,self.features, dtype=torch.float32, device=device)\n",
    "        self.bias=torch.zeros(self.classes, dtype=torch.float32, device=device)\n",
    "    \n",
    "\n",
    " \n",
    "    def one_hot_encoding(self,y, classes):\n",
    "        y_onehot = torch.zeros(y.size(0), classes)\n",
    "        y_cpu = y.to(torch.device('cpu'))\n",
    "        y_onehot.scatter_(1, y_cpu.view(-1, 1).long(), 1).float()\n",
    "        return y_onehot.to(device)\n",
    "\n",
    "    def softmax(self, x):\n",
    "        softm=(torch.exp(x.t())/torch.sum(torch.exp(x), dim=1)).t()\n",
    "        return softm\n",
    "\n",
    "    def cross_entropy(self,res, y_enc):\n",
    "        return - torch.sum(torch.log(res) * (y_enc), dim=1)\n",
    "    \n",
    "    def forward(self, x):\n",
    "        x_w =torch.matmul(x,self.weights.t())+ self.bias\n",
    "        probs=self.softmax(x_w)\n",
    "        return x_w,probs\n",
    "\n",
    "    def backward(self, x, y, probs):  \n",
    "        loss_y=y-probs\n",
    "        grad_loss_weights = - torch.matmul(x.t(),loss_y).t()\n",
    "        grad_loss_bias = - torch.sum(loss_y)\n",
    "        return grad_loss_weights, grad_loss_bias\n",
    "\n",
    "    \n",
    "    def perdicted_labels(self, x):\n",
    "        logits,probs = self.forward(x) \n",
    "        labels = torch.argmax(probs, dim=1)\n",
    "        return labels    \n",
    "  \n",
    "    def evaluation(self, x,y):\n",
    "        y_pred=self.perdicted_labels(x).float()\n",
    "        acc=sum(p == t for p, t in zip(y_pred, y))/len(y)\n",
    "        return acc\n",
    "\n",
    "\n",
    "\n",
    "    def train(self, x, y, epochs, lr=0.01):\n",
    "        error_per_epoch=[]\n",
    "        for e in range(epochs):\n",
    "            y_onehot = self.one_hot_encoding(y, self.classes)\n",
    "            _,probs = self.forward(x)\n",
    "            grad_w, grad_b = self.backward(x, y_onehot, probs)\n",
    "\n",
    "            self.weights -= (grad_w /len(y)) * lr\n",
    "\n",
    "            self.bias -=  (grad_b / len(y)) * lr\n",
    "\n",
    "            \n",
    "            _,probas = self.forward(x)\n",
    "        \n",
    "\n",
    "            loss = torch.mean(self.cross_entropy(probas, y_onehot))\n",
    "            acc=self.evaluation(x,y)\n",
    "\n",
    "            print(f\"Epoch : {e}  ; Current loss: {loss:.2f}; Accuracy: {acc:.2f}\")\n",
    "            error_per_epoch.append(loss.item())\n",
    "        return error_per_epoch\n",
    "   "
   ]
  },
  {
   "cell_type": "code",
   "execution_count": 17,
   "id": "6e9c6045",
   "metadata": {},
   "outputs": [
    {
     "name": "stderr",
     "output_type": "stream",
     "text": [
      "C:\\Users\\HP\\AppData\\Local\\Temp\\ipykernel_8280\\2755753144.py:1: UserWarning: To copy construct from a tensor, it is recommended to use sourceTensor.detach().clone() or sourceTensor.detach().clone().requires_grad_(True), rather than torch.tensor(sourceTensor).\n",
      "  x_train=torch.tensor(X_train,device=device, dtype=torch.float32)\n",
      "C:\\Users\\HP\\AppData\\Local\\Temp\\ipykernel_8280\\2755753144.py:2: UserWarning: To copy construct from a tensor, it is recommended to use sourceTensor.detach().clone() or sourceTensor.detach().clone().requires_grad_(True), rather than torch.tensor(sourceTensor).\n",
      "  y_train=torch.tensor(y_train,device=device, dtype=torch.float32)\n"
     ]
    },
    {
     "name": "stdout",
     "output_type": "stream",
     "text": [
      "Epoch : 0  ; Current loss: 1.10; Accuracy: 0.76\n",
      "Epoch : 1  ; Current loss: 1.09; Accuracy: 0.76\n",
      "Epoch : 2  ; Current loss: 1.09; Accuracy: 0.76\n",
      "Epoch : 3  ; Current loss: 1.08; Accuracy: 0.76\n",
      "Epoch : 4  ; Current loss: 1.08; Accuracy: 0.76\n",
      "Epoch : 5  ; Current loss: 1.08; Accuracy: 0.76\n",
      "Epoch : 6  ; Current loss: 1.07; Accuracy: 0.76\n",
      "Epoch : 7  ; Current loss: 1.07; Accuracy: 0.76\n",
      "Epoch : 8  ; Current loss: 1.07; Accuracy: 0.76\n",
      "Epoch : 9  ; Current loss: 1.06; Accuracy: 0.76\n",
      "Epoch : 10  ; Current loss: 1.06; Accuracy: 0.76\n",
      "Epoch : 11  ; Current loss: 1.06; Accuracy: 0.76\n",
      "Epoch : 12  ; Current loss: 1.06; Accuracy: 0.76\n",
      "Epoch : 13  ; Current loss: 1.05; Accuracy: 0.76\n",
      "Epoch : 14  ; Current loss: 1.05; Accuracy: 0.76\n",
      "Epoch : 15  ; Current loss: 1.05; Accuracy: 0.76\n",
      "Epoch : 16  ; Current loss: 1.04; Accuracy: 0.76\n",
      "Epoch : 17  ; Current loss: 1.04; Accuracy: 0.76\n",
      "Epoch : 18  ; Current loss: 1.04; Accuracy: 0.76\n",
      "Epoch : 19  ; Current loss: 1.03; Accuracy: 0.76\n",
      "Epoch : 20  ; Current loss: 1.03; Accuracy: 0.76\n",
      "Epoch : 21  ; Current loss: 1.03; Accuracy: 0.76\n",
      "Epoch : 22  ; Current loss: 1.02; Accuracy: 0.76\n",
      "Epoch : 23  ; Current loss: 1.02; Accuracy: 0.76\n",
      "Epoch : 24  ; Current loss: 1.02; Accuracy: 0.76\n",
      "Epoch : 25  ; Current loss: 1.02; Accuracy: 0.76\n",
      "Epoch : 26  ; Current loss: 1.01; Accuracy: 0.76\n",
      "Epoch : 27  ; Current loss: 1.01; Accuracy: 0.76\n",
      "Epoch : 28  ; Current loss: 1.01; Accuracy: 0.76\n",
      "Epoch : 29  ; Current loss: 1.00; Accuracy: 0.76\n",
      "Epoch : 30  ; Current loss: 1.00; Accuracy: 0.76\n",
      "Epoch : 31  ; Current loss: 1.00; Accuracy: 0.76\n",
      "Epoch : 32  ; Current loss: 1.00; Accuracy: 0.76\n",
      "Epoch : 33  ; Current loss: 0.99; Accuracy: 0.76\n",
      "Epoch : 34  ; Current loss: 0.99; Accuracy: 0.76\n",
      "Epoch : 35  ; Current loss: 0.99; Accuracy: 0.76\n",
      "Epoch : 36  ; Current loss: 0.99; Accuracy: 0.76\n",
      "Epoch : 37  ; Current loss: 0.98; Accuracy: 0.76\n",
      "Epoch : 38  ; Current loss: 0.98; Accuracy: 0.76\n",
      "Epoch : 39  ; Current loss: 0.98; Accuracy: 0.76\n",
      "Epoch : 40  ; Current loss: 0.97; Accuracy: 0.76\n",
      "Epoch : 41  ; Current loss: 0.97; Accuracy: 0.76\n",
      "Epoch : 42  ; Current loss: 0.97; Accuracy: 0.76\n",
      "Epoch : 43  ; Current loss: 0.97; Accuracy: 0.76\n",
      "Epoch : 44  ; Current loss: 0.96; Accuracy: 0.76\n",
      "Epoch : 45  ; Current loss: 0.96; Accuracy: 0.76\n",
      "Epoch : 46  ; Current loss: 0.96; Accuracy: 0.76\n",
      "Epoch : 47  ; Current loss: 0.96; Accuracy: 0.76\n",
      "Epoch : 48  ; Current loss: 0.95; Accuracy: 0.76\n",
      "Epoch : 49  ; Current loss: 0.95; Accuracy: 0.76\n",
      "weights:  [[-0.16079850494861603, 0.13414709270000458], [0.02929750643670559, -0.09818573296070099], [0.1315009742975235, -0.035961370915174484]]\n",
      "bias:  [-8.443993837481401e-10, -8.443993837481401e-10, -8.443993837481401e-10]\n"
     ]
    }
   ],
   "source": [
    "x_train=torch.tensor(X_train,device=device, dtype=torch.float32)\n",
    "y_train=torch.tensor(y_train,device=device, dtype=torch.float32)\n",
    "model1=softmax_regression_manual(2,3)\n",
    "loss=model1.train(x_train,y_train, epochs=50)\n",
    "print(\"weights: \",model1.weights.tolist())\n",
    "print(\"bias: \",model1.bias.tolist())\n"
   ]
  },
  {
   "cell_type": "code",
   "execution_count": 18,
   "id": "67de22d1",
   "metadata": {},
   "outputs": [
    {
     "data": {
      "image/png": "[encoded data removed]",
      "text/plain": [
       "<Figure size 640x480 with 1 Axes>"
      ]
     },
     "metadata": {},
     "output_type": "display_data"
    }
   ],
   "source": [
    "plt.plot(loss)\n",
    "plt.ylabel('Negative Log Likelihood Loss')\n",
    "plt.xlabel('Epoch')\n",
    "plt.show()"
   ]
  },
  {
   "cell_type": "code",
   "execution_count": 19,
   "id": "9d012189",
   "metadata": {},
   "outputs": [
    {
     "name": "stdout",
     "output_type": "stream",
     "text": [
      "Accuracy:  0.8333333730697632\n"
     ]
    },
    {
     "name": "stderr",
     "output_type": "stream",
     "text": [
      "C:\\Users\\HP\\AppData\\Local\\Temp\\ipykernel_8280\\3272996646.py:1: UserWarning: To copy construct from a tensor, it is recommended to use sourceTensor.detach().clone() or sourceTensor.detach().clone().requires_grad_(True), rather than torch.tensor(sourceTensor).\n",
      "  X_test= torch.tensor(X_test, dtype=torch.float32, device=device)\n",
      "C:\\Users\\HP\\AppData\\Local\\Temp\\ipykernel_8280\\3272996646.py:2: UserWarning: To copy construct from a tensor, it is recommended to use sourceTensor.detach().clone() or sourceTensor.detach().clone().requires_grad_(True), rather than torch.tensor(sourceTensor).\n",
      "  y_test = torch.tensor(y_test, dtype=torch.float32, device=device)\n"
     ]
    }
   ],
   "source": [
    "X_test= torch.tensor(X_test, dtype=torch.float32, device=device)\n",
    "y_test = torch.tensor(y_test, dtype=torch.float32, device=device)\n",
    "acc=model1.evaluation(X_test,y_test)\n",
    "print(\"Accuracy: \",acc.item())"
   ]
  },
  {
   "cell_type": "code",
   "execution_count": 20,
   "id": "740cf6f0",
   "metadata": {},
   "outputs": [],
   "source": [
    "from matplotlib.colors import ListedColormap\n",
    "import numpy as np\n",
    "\n",
    "\n",
    "def plot_decision_regions(X, y, classifier, resolution=0.02):\n",
    "\n",
    "    # setup marker generator and color map\n",
    "    markers = ('s', 'x', 'o', '^', 'v')\n",
    "    colors = ('red', 'blue', 'lightgreen', 'gray', 'cyan')\n",
    "\n",
    "    # plot the decision surface\n",
    "    x1_min, x1_max = X[:, 0].min() - 1, X[:, 0].max() + 1\n",
    "    x2_min, x2_max = X[:, 1].min() - 1, X[:, 1].max() + 1\n",
    "    xx1, xx2 = np.meshgrid(np.arange(x1_min, x1_max, resolution),\n",
    "                           np.arange(x2_min, x2_max, resolution))\n",
    "    tensor = torch.tensor(np.array([xx1.ravel(), xx2.ravel()]).T, device=device).float()\n",
    "    probas = classifier.forward(tensor)\n",
    "    Z = np.argmax(probas.tolist(), axis=1)\n",
    "\n",
    "    cmap = ListedColormap(colors[:len(np.unique(y))])\n",
    "    Z = Z.reshape(xx1.shape)\n",
    "    plt.contourf(xx1, xx2, Z, alpha=0.4, cmap=cmap)\n",
    "    plt.xlim(xx1.min(), xx1.max())\n",
    "    plt.ylim(xx2.min(), xx2.max())\n",
    "    print(\"X.devic: \",X.device)\n",
    "    # print(\"X.devic: \",X.device)\n",
    "    print(\"y.devic: \",y.device)\n",
    "\n",
    "\n",
    "    # plot class samples\n",
    "    for idx, cl in enumerate(np.unique(y)):\n",
    "        plt.scatter(x=X[y == cl, 0], y=X[y == cl, 1],\n",
    "                    alpha=0.8, color=cmap(idx),\n",
    "                    edgecolor='black',\n",
    "                    marker=markers[idx], \n",
    "                    label=cl)"
   ]
  },
  {
   "cell_type": "code",
   "execution_count": 8,
   "id": "0a661e17",
   "metadata": {},
   "outputs": [
    {
     "name": "stderr",
     "output_type": "stream",
     "text": [
      "C:\\Users\\HP\\AppData\\Local\\Temp\\ipykernel_8280\\154719348.py:14: DeprecationWarning: __array__ implementation doesn't accept a copy keyword, so passing copy=False failed. __array__ must implement 'dtype' and 'copy' keyword arguments. To learn more, see the migration guide https://numpy.org/devdocs/numpy_2_0_migration_guide.html#adapting-to-changes-in-the-copy-keyword\n",
      "  xx1, xx2 = np.meshgrid(np.arange(x1_min, x1_max, resolution),\n",
      "C:\\Users\\HP\\AppData\\Local\\Temp\\ipykernel_8280\\154719348.py:15: DeprecationWarning: __array__ implementation doesn't accept a copy keyword, so passing copy=False failed. __array__ must implement 'dtype' and 'copy' keyword arguments. To learn more, see the migration guide https://numpy.org/devdocs/numpy_2_0_migration_guide.html#adapting-to-changes-in-the-copy-keyword\n",
      "  np.arange(x2_min, x2_max, resolution))\n",
      "C:\\Users\\HP\\AppData\\Local\\Temp\\ipykernel_8280\\154719348.py:32: UserWarning: You passed a edgecolor/edgecolors ('black') for an unfilled marker ('x').  Matplotlib is ignoring the edgecolor in favor of the facecolor.  This behavior may change in the future.\n",
      "  plt.scatter(x=X[y == cl, 0], y=X[y == cl, 1],\n"
     ]
    },
    {
     "name": "stdout",
     "output_type": "stream",
     "text": [
      "X.devic:  cpu\n",
      "y.devic:  cpu\n"
     ]
    },
    {
     "data": {
      "image/png": "[encoded data removed]",
      "text/plain": [
       "<Figure size 640x480 with 1 Axes>"
      ]
     },
     "metadata": {},
     "output_type": "display_data"
    }
   ],
   "source": [
    "plot_decision_regions(X_train, y_train.to('cpu'), classifier=model1)\n",
    "plt.xlabel('sepal length [cm]')\n",
    "plt.ylabel('petal length [cm]')\n",
    "plt.legend(loc='upper left')\n",
    "\n",
    "plt.tight_layout()\n",
    "plt.show()\n"
   ]
  },
  {
   "cell_type": "markdown",
   "id": "92b29b61",
   "metadata": {},
   "source": [
    "### High Level Implementation of softmax regression"
   ]
  },
  {
   "cell_type": "code",
   "execution_count": 21,
   "id": "047d1698",
   "metadata": {},
   "outputs": [],
   "source": [
    "class Softmax_regression(torch.nn.Module):\n",
    "    def __init__(self, num_features=2, classes=3):\n",
    "        super(Softmax_regression, self).__init__()\n",
    "        self.layer=torch.nn.Linear(num_features,classes)\n",
    "        self.classes=classes\n",
    "        self.layer.weight.detach().zero_()\n",
    "        self.layer.bias.detach().zero_()\n",
    "    \n",
    "    def forward(self, x):\n",
    "        logits=self.layer(x)\n",
    "        probs=functional.softmax(logits, dim=1)\n",
    "        return logits,probs\n",
    "    \n",
    "    # def perdicted_labels(self, x):\n",
    "    #     probs = self.forward(x) \n",
    "    #     labels = torch.argmax(probs, dim=1)\n",
    "    #     return labels    \n",
    "  \n",
    "    # def evaluation(self, x,y):\n",
    "    #     y_pred=self.perdicted_labels(x).float()\n",
    "    #     acc=sum(p == t for p, t in zip(y_pred, y))/len(y)\n",
    "    #     return acc\n",
    "    \n",
    "\n",
    "    \n",
    "def accuracy(y, pred_prob):\n",
    "    pred_prob=pred_prob.view(-1).float()\n",
    "    y_pred=torch.where(pred_prob >= 0.5, 1, 0)\n",
    "    acc=sum(p == t for p, t in zip(y_pred.float(), y.float()))/len(y)\n",
    "    acc = torch.sum(y.view(-1).float() == pred_prob.float()).item() / y.size(0)\n",
    "    return torch.tensor(acc)\n",
    "\n",
    "\n",
    "\n",
    "\n",
    "def train(X,y,model, epochs=10, lr=0.01):\n",
    "    loss_per_epoch=[]\n",
    "    optimizer = torch.optim.SGD(model.parameters(), lr=lr) \n",
    "\n",
    "    for e in range(epochs):\n",
    "        logits,_=model(X)\n",
    "        loss=functional.cross_entropy(logits, y.long())\n",
    "        optimizer.zero_grad()\n",
    "        loss.backward()\n",
    "        optimizer.step()\n",
    "        \n",
    "        _,y_pred=model(X)\n",
    "        acc=accuracy(y,torch.argmax(y_pred, dim=1))\n",
    "        loss=functional.cross_entropy(y_pred, y.long())\n",
    "        print(f\"Epoch : {e}  ; Current loss: {loss:.2f}; Accuracy: {acc:.2f}\")\n",
    "        ls=loss.item()\n",
    "        loss_per_epoch.append(ls)\n",
    "    return loss_per_epoch\n",
    "\n"
   ]
  },
  {
   "cell_type": "code",
   "execution_count": 22,
   "id": "c39996e1",
   "metadata": {},
   "outputs": [
    {
     "name": "stderr",
     "output_type": "stream",
     "text": [
      "C:\\Users\\HP\\AppData\\Local\\Temp\\ipykernel_8280\\783230430.py:2: UserWarning: To copy construct from a tensor, it is recommended to use sourceTensor.detach().clone() or sourceTensor.detach().clone().requires_grad_(True), rather than torch.tensor(sourceTensor).\n",
      "  X_train = torch.tensor(X_train, dtype=torch.float32, device=device)\n",
      "C:\\Users\\HP\\AppData\\Local\\Temp\\ipykernel_8280\\783230430.py:3: UserWarning: To copy construct from a tensor, it is recommended to use sourceTensor.detach().clone() or sourceTensor.detach().clone().requires_grad_(True), rather than torch.tensor(sourceTensor).\n",
      "  y_train = torch.tensor(y_train, dtype=torch.float32, device=device)\n"
     ]
    },
    {
     "name": "stdout",
     "output_type": "stream",
     "text": [
      "Epoch : 0  ; Current loss: 1.10; Accuracy: 0.76\n",
      "Epoch : 1  ; Current loss: 1.10; Accuracy: 0.76\n",
      "Epoch : 2  ; Current loss: 1.10; Accuracy: 0.76\n",
      "Epoch : 3  ; Current loss: 1.09; Accuracy: 0.76\n",
      "Epoch : 4  ; Current loss: 1.09; Accuracy: 0.76\n",
      "Epoch : 5  ; Current loss: 1.09; Accuracy: 0.76\n",
      "Epoch : 6  ; Current loss: 1.09; Accuracy: 0.76\n",
      "Epoch : 7  ; Current loss: 1.09; Accuracy: 0.76\n",
      "Epoch : 8  ; Current loss: 1.09; Accuracy: 0.76\n",
      "Epoch : 9  ; Current loss: 1.09; Accuracy: 0.76\n",
      "Epoch : 10  ; Current loss: 1.09; Accuracy: 0.76\n",
      "Epoch : 11  ; Current loss: 1.08; Accuracy: 0.76\n",
      "Epoch : 12  ; Current loss: 1.08; Accuracy: 0.76\n",
      "Epoch : 13  ; Current loss: 1.08; Accuracy: 0.76\n",
      "Epoch : 14  ; Current loss: 1.08; Accuracy: 0.76\n",
      "Epoch : 15  ; Current loss: 1.08; Accuracy: 0.76\n",
      "Epoch : 16  ; Current loss: 1.08; Accuracy: 0.76\n",
      "Epoch : 17  ; Current loss: 1.08; Accuracy: 0.76\n",
      "Epoch : 18  ; Current loss: 1.08; Accuracy: 0.76\n",
      "Epoch : 19  ; Current loss: 1.08; Accuracy: 0.76\n",
      "Epoch : 20  ; Current loss: 1.07; Accuracy: 0.76\n",
      "Epoch : 21  ; Current loss: 1.07; Accuracy: 0.76\n",
      "Epoch : 22  ; Current loss: 1.07; Accuracy: 0.76\n",
      "Epoch : 23  ; Current loss: 1.07; Accuracy: 0.76\n",
      "Epoch : 24  ; Current loss: 1.07; Accuracy: 0.76\n",
      "Epoch : 25  ; Current loss: 1.07; Accuracy: 0.76\n",
      "Epoch : 26  ; Current loss: 1.07; Accuracy: 0.76\n",
      "Epoch : 27  ; Current loss: 1.07; Accuracy: 0.76\n",
      "Epoch : 28  ; Current loss: 1.07; Accuracy: 0.76\n",
      "Epoch : 29  ; Current loss: 1.07; Accuracy: 0.76\n",
      "Epoch : 30  ; Current loss: 1.06; Accuracy: 0.76\n",
      "Epoch : 31  ; Current loss: 1.06; Accuracy: 0.76\n",
      "Epoch : 32  ; Current loss: 1.06; Accuracy: 0.76\n",
      "Epoch : 33  ; Current loss: 1.06; Accuracy: 0.76\n",
      "Epoch : 34  ; Current loss: 1.06; Accuracy: 0.76\n",
      "Epoch : 35  ; Current loss: 1.06; Accuracy: 0.76\n",
      "Epoch : 36  ; Current loss: 1.06; Accuracy: 0.76\n",
      "Epoch : 37  ; Current loss: 1.06; Accuracy: 0.76\n",
      "Epoch : 38  ; Current loss: 1.06; Accuracy: 0.76\n",
      "Epoch : 39  ; Current loss: 1.05; Accuracy: 0.76\n",
      "Epoch : 40  ; Current loss: 1.05; Accuracy: 0.76\n",
      "Epoch : 41  ; Current loss: 1.05; Accuracy: 0.76\n",
      "Epoch : 42  ; Current loss: 1.05; Accuracy: 0.76\n",
      "Epoch : 43  ; Current loss: 1.05; Accuracy: 0.76\n",
      "Epoch : 44  ; Current loss: 1.05; Accuracy: 0.76\n",
      "Epoch : 45  ; Current loss: 1.05; Accuracy: 0.76\n",
      "Epoch : 46  ; Current loss: 1.05; Accuracy: 0.76\n",
      "Epoch : 47  ; Current loss: 1.05; Accuracy: 0.76\n",
      "Epoch : 48  ; Current loss: 1.05; Accuracy: 0.76\n",
      "Epoch : 49  ; Current loss: 1.05; Accuracy: 0.76\n",
      "weights:  Parameter containing:\n",
      "tensor([[-0.1607,  0.1341],\n",
      "        [ 0.0292, -0.0981],\n",
      "        [ 0.1315, -0.0360]], device='cuda:0', requires_grad=True)\n",
      "bias:  Parameter containing:\n",
      "tensor([ 0.0148,  0.0004, -0.0152], device='cuda:0', requires_grad=True)\n"
     ]
    }
   ],
   "source": [
    "model2=Softmax_regression().to(device)\n",
    "X_train = torch.tensor(X_train, dtype=torch.float32, device=device)\n",
    "y_train = torch.tensor(y_train, dtype=torch.float32, device=device)\n",
    "loss=train(X_train,y_train,model2,epochs=50)\n",
    "print(\"weights: \",model2.layer.weight)\n",
    "print(\"bias: \",model2.layer.bias)\n"
   ]
  },
  {
   "cell_type": "code",
   "execution_count": 24,
   "id": "71a60e2f",
   "metadata": {},
   "outputs": [
    {
     "name": "stdout",
     "output_type": "stream",
     "text": [
      "Accuracy: 0.80\n"
     ]
    }
   ],
   "source": [
    "X_test = X_test.to(device)\n",
    "y_test = y_test.to(device)\n",
    "\n",
    "_,test_pred=model2(X_test)\n",
    "acc=accuracy(y_test,torch.argmax(test_pred, dim=1).float())\n",
    "print(f\"Accuracy: {acc:.2f}\")"
   ]
  },
  {
   "cell_type": "code",
   "execution_count": null,
   "id": "74ddf5e2",
   "metadata": {},
   "outputs": [
    {
     "name": "stdout",
     "output_type": "stream",
     "text": [
      "24\n"
     ]
    }
   ],
   "source": [
    "# count=0\n",
    "# kk=torch.argmax(test_pred, dim=1).float()\n",
    "# for i in range(len(y_test)):\n",
    "#     if y_test[i]==kk[i]:\n",
    "#         count+=1\n",
    "# print(count)"
   ]
  },
  {
   "cell_type": "code",
   "execution_count": null,
   "id": "a7f13097",
   "metadata": {},
   "outputs": [
    {
     "data": {
      "text/plain": [
       "tensor(0.8000, device='cuda:0')"
      ]
     },
     "execution_count": 342,
     "metadata": {},
     "output_type": "execute_result"
    }
   ],
   "source": [
    "# model2.evaluation(X_test,y_test)"
   ]
  },
  {
   "cell_type": "code",
   "execution_count": null,
   "id": "95a64e1d",
   "metadata": {},
   "outputs": [],
   "source": []
  }
 ],
 "metadata": {
  "kernelspec": {
   "display_name": "env",
   "language": "python",
   "name": "python3"
  },
  "language_info": {
   "codemirror_mode": {
    "name": "ipython",
    "version": 3
   },
   "file_extension": ".py",
   "mimetype": "text/x-python",
   "name": "python",
   "nbconvert_exporter": "python",
   "pygments_lexer": "ipython3",
   "version": "3.13.3"
  }
 },
 "nbformat": 4,
 "nbformat_minor": 5
}
