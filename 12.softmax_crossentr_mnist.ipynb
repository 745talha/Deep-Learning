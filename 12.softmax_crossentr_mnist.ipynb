{
 "cells": [
  {
   "cell_type": "code",
   "execution_count": 1,
   "id": "e1599585",
   "metadata": {},
   "outputs": [],
   "source": [
    "import time\n",
    "import torch\n",
    "from torchvision import datasets\n",
    "from torchvision import transforms\n",
    "from torch.utils.data import DataLoader\n",
    "from torch.nn import functional"
   ]
  },
  {
   "cell_type": "code",
   "execution_count": 2,
   "id": "a3db22e1",
   "metadata": {},
   "outputs": [
    {
     "data": {
      "text/plain": [
       "device(type='cuda', index=0)"
      ]
     },
     "execution_count": 2,
     "metadata": {},
     "output_type": "execute_result"
    }
   ],
   "source": [
    "device = torch.device(\"cuda:0\" if torch.cuda.is_available() else \"cpu\")\n",
    "device"
   ]
  },
  {
   "cell_type": "code",
   "execution_count": 4,
   "id": "e34d039c",
   "metadata": {},
   "outputs": [],
   "source": [
    "train_dataset=datasets.MNIST(root='data', train=True, transform=transforms.ToTensor(),download=True)\n",
    "test_dataset=datasets.MNIST(root='data', train=False, transform=transforms.ToTensor(),download=True)\n",
    "train_loader=DataLoader(dataset=train_dataset, batch_size=256,shuffle=True)\n",
    "test_loader=DataLoader(dataset=test_dataset, batch_size=256,shuffle=False)"
   ]
  },
  {
   "cell_type": "code",
   "execution_count": 5,
   "id": "05f03a7e",
   "metadata": {},
   "outputs": [
    {
     "name": "stdout",
     "output_type": "stream",
     "text": [
      "Image dimensions:  torch.Size([256, 1, 28, 28])\n",
      "Labels dimensions:  torch.Size([256])\n"
     ]
    }
   ],
   "source": [
    "for images, labels in train_loader:\n",
    "    print(\"Image dimensions: \",images.shape), # batch size, color chanel, size(h,w)\n",
    "    print(\"Labels dimensions: \",labels.shape)   \n",
    "    break"
   ]
  },
  {
   "cell_type": "code",
   "execution_count": 11,
   "id": "7552c800",
   "metadata": {},
   "outputs": [],
   "source": [
    "class MLP(torch.nn.Module):\n",
    "    def __init__(self, num_features=784,num_hidden=100, classes=10):\n",
    "        super(MLP, self).__init__()\n",
    "        self.classes=classes\n",
    "        self.layer1=torch.nn.Linear(num_features,num_hidden)\n",
    "        self.layer1.weight.detach().normal_(0.0, 0.1) #mean and standard deviation\n",
    "        self.layer1.bias.detach().zero_()\n",
    "\n",
    "\n",
    "        self.layer2=torch.nn.Linear(num_hidden,classes)\n",
    "        self.layer2.weight.detach().normal_(0.0, 0.1)\n",
    "        self.layer2.bias.detach().zero_()\n",
    "    \n",
    "    def forward(self, x):\n",
    "        out=self.layer1(x)\n",
    "        out=functional.relu(out)\n",
    "        logits=self.layer2(out)\n",
    "        probs = functional.softmax(logits, dim=1)\n",
    "        return logits, probs\n",
    "    \n",
    "\n"
   ]
  },
  {
   "cell_type": "code",
   "execution_count": 26,
   "id": "a07d5ad1",
   "metadata": {},
   "outputs": [],
   "source": [
    "def accuracy(model, data_loader):\n",
    "    correct_pred, num_examples = 0, 0\n",
    "    for features, targets in data_loader:\n",
    "        features = features.view(-1, 28*28).to(device)\n",
    "        targets = targets.to(device)\n",
    "        _,probas = model(features)\n",
    "        _, predicted_labels = torch.max(probas, 1)\n",
    "        num_examples += targets.size(0)\n",
    "        correct_pred += (predicted_labels == targets).sum()\n",
    "        \n",
    "    return correct_pred.float() / num_examples * 100\n",
    "def compute_loss(net, data_loader):\n",
    "    curr_loss = 0.\n",
    "    with torch.no_grad():\n",
    "        for cnt, (features, targets) in enumerate(data_loader):\n",
    "            features = features.view(-1, 28*28).to(device)\n",
    "            targets = targets.to(device)\n",
    "            logits,probs = net(features)\n",
    "            loss = functional.cross_entropy(logits, targets)\n",
    "            curr_loss += loss\n",
    "        return float(curr_loss)/cnt\n",
    "    \n"
   ]
  },
  {
   "cell_type": "code",
   "execution_count": 27,
   "id": "c0916bd8",
   "metadata": {},
   "outputs": [],
   "source": [
    "def train(model,epochs=20):\n",
    "    optimizer = torch.optim.SGD(model.parameters(), lr=0.1)\n",
    "    start = time.time()\n",
    "    batch_loss= []\n",
    "    epoch_loss = []\n",
    "    total_batches=len(train_dataset)/256\n",
    "    for epoch in range(epochs):\n",
    "        model.train()\n",
    "        for batch_idx, (features, targets) in enumerate(train_loader):\n",
    "            \n",
    "            features = features.view(-1, 28*28).to(device)\n",
    "            targets = targets.to(device)\n",
    "                \n",
    "            logits, _ = model(features)\n",
    "            \n",
    "            loss = functional.cross_entropy(logits, targets)\n",
    "            optimizer.zero_grad()\n",
    "            \n",
    "            loss.backward()\n",
    "\n",
    "            optimizer.step()\n",
    "            \n",
    "            ### LOGGING\n",
    "            batch_loss.append(loss.item())\n",
    "            if not batch_idx % 50:\n",
    "                print (f\"Epoch: {epoch}/ {epochs} | Batch: {batch_idx} / {total_batches}  | Cost: {loss:.4f}\")\n",
    "            \n",
    "        loss = compute_loss(model, train_loader)\n",
    "        acc = accuracy(model, train_loader)\n",
    "        epoch_loss.append(loss)\n",
    "        print(f'Epoch: {epoch}/{epochs}  | Train Cost: {loss}  | Accuracy: {acc}')\n",
    "        te=(time.time() - start)\n",
    "        print(f'Time elapsed: {te:.4f}')\n",
    "        total_t=time.time() - start\n",
    "    print(f'Total Training Time: {total_t:.4f}' )\n",
    "    return epoch_loss,batch_loss\n"
   ]
  },
  {
   "cell_type": "code",
   "execution_count": 28,
   "id": "72ded042",
   "metadata": {},
   "outputs": [
    {
     "name": "stdout",
     "output_type": "stream",
     "text": [
      "Epoch: 0/ 20 | Batch: 0 / 234.375  | Cost: 2.4234\n",
      "Epoch: 0/ 20 | Batch: 50 / 234.375  | Cost: 0.6747\n",
      "Epoch: 0/ 20 | Batch: 100 / 234.375  | Cost: 0.6011\n",
      "Epoch: 0/ 20 | Batch: 150 / 234.375  | Cost: 0.4067\n",
      "Epoch: 0/ 20 | Batch: 200 / 234.375  | Cost: 0.3656\n",
      "Epoch: 0/20  | Train Cost: 0.396363771878756  | Accuracy: 88.44666290283203\n",
      "Time elapsed: 23.4449\n",
      "Epoch: 1/ 20 | Batch: 0 / 234.375  | Cost: 0.3766\n",
      "Epoch: 1/ 20 | Batch: 50 / 234.375  | Cost: 0.3438\n",
      "Epoch: 1/ 20 | Batch: 100 / 234.375  | Cost: 0.2996\n",
      "Epoch: 1/ 20 | Batch: 150 / 234.375  | Cost: 0.3123\n",
      "Epoch: 1/ 20 | Batch: 200 / 234.375  | Cost: 0.3549\n",
      "Epoch: 1/20  | Train Cost: 0.31191631871410924  | Accuracy: 91.16500091552734\n",
      "Time elapsed: 46.1216\n",
      "Epoch: 2/ 20 | Batch: 0 / 234.375  | Cost: 0.3100\n",
      "Epoch: 2/ 20 | Batch: 50 / 234.375  | Cost: 0.2726\n",
      "Epoch: 2/ 20 | Batch: 100 / 234.375  | Cost: 0.2636\n",
      "Epoch: 2/ 20 | Batch: 150 / 234.375  | Cost: 0.2546\n",
      "Epoch: 2/ 20 | Batch: 200 / 234.375  | Cost: 0.3454\n",
      "Epoch: 2/20  | Train Cost: 0.28369036291399574  | Accuracy: 91.72166442871094\n",
      "Time elapsed: 68.7198\n",
      "Epoch: 3/ 20 | Batch: 0 / 234.375  | Cost: 0.2888\n",
      "Epoch: 3/ 20 | Batch: 50 / 234.375  | Cost: 0.2243\n",
      "Epoch: 3/ 20 | Batch: 100 / 234.375  | Cost: 0.2525\n",
      "Epoch: 3/ 20 | Batch: 150 / 234.375  | Cost: 0.2920\n",
      "Epoch: 3/ 20 | Batch: 200 / 234.375  | Cost: 0.2753\n",
      "Epoch: 3/20  | Train Cost: 0.2513391543657352  | Accuracy: 92.81333923339844\n",
      "Time elapsed: 90.5596\n",
      "Epoch: 4/ 20 | Batch: 0 / 234.375  | Cost: 0.2507\n",
      "Epoch: 4/ 20 | Batch: 50 / 234.375  | Cost: 0.2328\n",
      "Epoch: 4/ 20 | Batch: 100 / 234.375  | Cost: 0.2079\n",
      "Epoch: 4/ 20 | Batch: 150 / 234.375  | Cost: 0.1935\n",
      "Epoch: 4/ 20 | Batch: 200 / 234.375  | Cost: 0.1913\n",
      "Epoch: 4/20  | Train Cost: 0.22477259187616855  | Accuracy: 93.60334014892578\n",
      "Time elapsed: 112.7613\n",
      "Epoch: 5/ 20 | Batch: 0 / 234.375  | Cost: 0.2396\n",
      "Epoch: 5/ 20 | Batch: 50 / 234.375  | Cost: 0.1989\n",
      "Epoch: 5/ 20 | Batch: 100 / 234.375  | Cost: 0.2336\n",
      "Epoch: 5/ 20 | Batch: 150 / 234.375  | Cost: 0.1980\n",
      "Epoch: 5/ 20 | Batch: 200 / 234.375  | Cost: 0.2408\n",
      "Epoch: 5/20  | Train Cost: 0.2085603730291383  | Accuracy: 94.06666564941406\n",
      "Time elapsed: 137.4709\n",
      "Epoch: 6/ 20 | Batch: 0 / 234.375  | Cost: 0.1782\n",
      "Epoch: 6/ 20 | Batch: 50 / 234.375  | Cost: 0.1801\n",
      "Epoch: 6/ 20 | Batch: 100 / 234.375  | Cost: 0.1348\n",
      "Epoch: 6/ 20 | Batch: 150 / 234.375  | Cost: 0.2697\n",
      "Epoch: 6/ 20 | Batch: 200 / 234.375  | Cost: 0.1521\n",
      "Epoch: 6/20  | Train Cost: 0.1909887199727898  | Accuracy: 94.55167388916016\n",
      "Time elapsed: 159.8603\n",
      "Epoch: 7/ 20 | Batch: 0 / 234.375  | Cost: 0.1710\n",
      "Epoch: 7/ 20 | Batch: 50 / 234.375  | Cost: 0.1918\n",
      "Epoch: 7/ 20 | Batch: 100 / 234.375  | Cost: 0.2032\n",
      "Epoch: 7/ 20 | Batch: 150 / 234.375  | Cost: 0.1504\n",
      "Epoch: 7/ 20 | Batch: 200 / 234.375  | Cost: 0.1599\n",
      "Epoch: 7/20  | Train Cost: 0.17764058887449086  | Accuracy: 94.99500274658203\n",
      "Time elapsed: 182.8930\n",
      "Epoch: 8/ 20 | Batch: 0 / 234.375  | Cost: 0.1567\n",
      "Epoch: 8/ 20 | Batch: 50 / 234.375  | Cost: 0.1456\n",
      "Epoch: 8/ 20 | Batch: 100 / 234.375  | Cost: 0.1836\n",
      "Epoch: 8/ 20 | Batch: 150 / 234.375  | Cost: 0.2045\n",
      "Epoch: 8/ 20 | Batch: 200 / 234.375  | Cost: 0.1417\n",
      "Epoch: 8/20  | Train Cost: 0.16500042646359175  | Accuracy: 95.37166595458984\n",
      "Time elapsed: 209.8326\n",
      "Epoch: 9/ 20 | Batch: 0 / 234.375  | Cost: 0.2141\n",
      "Epoch: 9/ 20 | Batch: 50 / 234.375  | Cost: 0.2146\n",
      "Epoch: 9/ 20 | Batch: 100 / 234.375  | Cost: 0.1738\n",
      "Epoch: 9/ 20 | Batch: 150 / 234.375  | Cost: 0.2115\n",
      "Epoch: 9/ 20 | Batch: 200 / 234.375  | Cost: 0.1750\n",
      "Epoch: 9/20  | Train Cost: 0.1565849108573718  | Accuracy: 95.59333038330078\n",
      "Time elapsed: 236.4784\n",
      "Epoch: 10/ 20 | Batch: 0 / 234.375  | Cost: 0.2264\n",
      "Epoch: 10/ 20 | Batch: 50 / 234.375  | Cost: 0.1705\n",
      "Epoch: 10/ 20 | Batch: 100 / 234.375  | Cost: 0.1471\n",
      "Epoch: 10/ 20 | Batch: 150 / 234.375  | Cost: 0.1826\n",
      "Epoch: 10/ 20 | Batch: 200 / 234.375  | Cost: 0.1709\n",
      "Epoch: 10/20  | Train Cost: 0.1467038831140241  | Accuracy: 95.86333465576172\n",
      "Time elapsed: 260.9714\n",
      "Epoch: 11/ 20 | Batch: 0 / 234.375  | Cost: 0.0558\n",
      "Epoch: 11/ 20 | Batch: 50 / 234.375  | Cost: 0.1172\n",
      "Epoch: 11/ 20 | Batch: 100 / 234.375  | Cost: 0.0965\n",
      "Epoch: 11/ 20 | Batch: 150 / 234.375  | Cost: 0.2215\n",
      "Epoch: 11/ 20 | Batch: 200 / 234.375  | Cost: 0.1428\n",
      "Epoch: 11/20  | Train Cost: 0.1424157232300848  | Accuracy: 95.94166564941406\n",
      "Time elapsed: 281.9921\n",
      "Epoch: 12/ 20 | Batch: 0 / 234.375  | Cost: 0.1818\n",
      "Epoch: 12/ 20 | Batch: 50 / 234.375  | Cost: 0.1429\n",
      "Epoch: 12/ 20 | Batch: 100 / 234.375  | Cost: 0.0896\n",
      "Epoch: 12/ 20 | Batch: 150 / 234.375  | Cost: 0.1270\n",
      "Epoch: 12/ 20 | Batch: 200 / 234.375  | Cost: 0.1726\n",
      "Epoch: 12/20  | Train Cost: 0.13305106529822716  | Accuracy: 96.27166748046875\n",
      "Time elapsed: 304.0814\n",
      "Epoch: 13/ 20 | Batch: 0 / 234.375  | Cost: 0.1727\n",
      "Epoch: 13/ 20 | Batch: 50 / 234.375  | Cost: 0.1459\n",
      "Epoch: 13/ 20 | Batch: 100 / 234.375  | Cost: 0.2329\n",
      "Epoch: 13/ 20 | Batch: 150 / 234.375  | Cost: 0.1019\n",
      "Epoch: 13/ 20 | Batch: 200 / 234.375  | Cost: 0.1129\n",
      "Epoch: 13/20  | Train Cost: 0.12832071027185163  | Accuracy: 96.38333129882812\n",
      "Time elapsed: 325.2294\n",
      "Epoch: 14/ 20 | Batch: 0 / 234.375  | Cost: 0.1451\n",
      "Epoch: 14/ 20 | Batch: 50 / 234.375  | Cost: 0.1791\n",
      "Epoch: 14/ 20 | Batch: 100 / 234.375  | Cost: 0.0833\n",
      "Epoch: 14/ 20 | Batch: 150 / 234.375  | Cost: 0.1088\n",
      "Epoch: 14/ 20 | Batch: 200 / 234.375  | Cost: 0.1007\n",
      "Epoch: 14/20  | Train Cost: 0.12106321611974993  | Accuracy: 96.65333557128906\n",
      "Time elapsed: 346.7826\n",
      "Epoch: 15/ 20 | Batch: 0 / 234.375  | Cost: 0.1383\n",
      "Epoch: 15/ 20 | Batch: 50 / 234.375  | Cost: 0.0806\n",
      "Epoch: 15/ 20 | Batch: 100 / 234.375  | Cost: 0.1460\n",
      "Epoch: 15/ 20 | Batch: 150 / 234.375  | Cost: 0.1241\n",
      "Epoch: 15/ 20 | Batch: 200 / 234.375  | Cost: 0.1501\n",
      "Epoch: 15/20  | Train Cost: 0.11718250339866704  | Accuracy: 96.73999786376953\n",
      "Time elapsed: 367.5279\n",
      "Epoch: 16/ 20 | Batch: 0 / 234.375  | Cost: 0.0765\n",
      "Epoch: 16/ 20 | Batch: 50 / 234.375  | Cost: 0.0976\n",
      "Epoch: 16/ 20 | Batch: 100 / 234.375  | Cost: 0.0928\n",
      "Epoch: 16/ 20 | Batch: 150 / 234.375  | Cost: 0.1051\n",
      "Epoch: 16/ 20 | Batch: 200 / 234.375  | Cost: 0.0753\n",
      "Epoch: 16/20  | Train Cost: 0.11191071404351129  | Accuracy: 96.89666748046875\n",
      "Time elapsed: 388.9065\n",
      "Epoch: 17/ 20 | Batch: 0 / 234.375  | Cost: 0.0963\n",
      "Epoch: 17/ 20 | Batch: 50 / 234.375  | Cost: 0.1772\n",
      "Epoch: 17/ 20 | Batch: 100 / 234.375  | Cost: 0.0980\n",
      "Epoch: 17/ 20 | Batch: 150 / 234.375  | Cost: 0.1058\n",
      "Epoch: 17/ 20 | Batch: 200 / 234.375  | Cost: 0.1478\n",
      "Epoch: 17/20  | Train Cost: 0.11138365818903996  | Accuracy: 96.82166290283203\n",
      "Time elapsed: 409.3104\n",
      "Epoch: 18/ 20 | Batch: 0 / 234.375  | Cost: 0.1153\n",
      "Epoch: 18/ 20 | Batch: 50 / 234.375  | Cost: 0.1262\n",
      "Epoch: 18/ 20 | Batch: 100 / 234.375  | Cost: 0.0662\n",
      "Epoch: 18/ 20 | Batch: 150 / 234.375  | Cost: 0.0733\n",
      "Epoch: 18/ 20 | Batch: 200 / 234.375  | Cost: 0.0969\n",
      "Epoch: 18/20  | Train Cost: 0.10398332481710319  | Accuracy: 97.11166381835938\n",
      "Time elapsed: 429.7807\n",
      "Epoch: 19/ 20 | Batch: 0 / 234.375  | Cost: 0.1488\n",
      "Epoch: 19/ 20 | Batch: 50 / 234.375  | Cost: 0.1056\n",
      "Epoch: 19/ 20 | Batch: 100 / 234.375  | Cost: 0.1059\n",
      "Epoch: 19/ 20 | Batch: 150 / 234.375  | Cost: 0.1026\n",
      "Epoch: 19/ 20 | Batch: 200 / 234.375  | Cost: 0.1202\n",
      "Epoch: 19/20  | Train Cost: 0.10001548538860093  | Accuracy: 97.22000122070312\n",
      "Time elapsed: 450.2598\n",
      "Total Training Time: 450.2598\n",
      "CPU times: total: 8min 2s\n",
      "Wall time: 7min 30s\n"
     ]
    }
   ],
   "source": [
    "%%time\n",
    "model=MLP().to(device)\n",
    "\n",
    "loss, batch_loss=train(model, epochs=20)"
   ]
  },
  {
   "cell_type": "code",
   "execution_count": 29,
   "id": "823bea80",
   "metadata": {},
   "outputs": [],
   "source": [
    "import matplotlib.pyplot as plt"
   ]
  },
  {
   "cell_type": "code",
   "execution_count": 32,
   "id": "ceb733dc",
   "metadata": {},
   "outputs": [
    {
     "data": {
      "image/png": "[encoded data removed]",
      "text/plain": [
       "<Figure size 640x480 with 1 Axes>"
      ]
     },
     "metadata": {},
     "output_type": "display_data"
    },
    {
     "data": {
      "image/png": "[encoded data removed]",
      "text/plain": [
       "<Figure size 640x480 with 1 Axes>"
      ]
     },
     "metadata": {},
     "output_type": "display_data"
    }
   ],
   "source": [
    "plt.plot(range(len(batch_loss)), batch_loss)\n",
    "plt.ylabel('Cross Entropy')\n",
    "plt.xlabel('batch')\n",
    "plt.show()\n",
    "\n",
    "plt.plot(range(len(loss)), loss)\n",
    "plt.ylabel('Cross Entropy')\n",
    "plt.xlabel('Epoch')\n",
    "plt.show()"
   ]
  },
  {
   "cell_type": "code",
   "execution_count": 34,
   "id": "f5573d4c",
   "metadata": {},
   "outputs": [
    {
     "name": "stdout",
     "output_type": "stream",
     "text": [
      "Test accuracy:  tensor(96.7400, device='cuda:0')\n"
     ]
    }
   ],
   "source": [
    "print('Test accuracy: ', accuracy(model, test_loader))"
   ]
  },
  {
   "cell_type": "code",
   "execution_count": null,
   "id": "c9ecf05e",
   "metadata": {},
   "outputs": [],
   "source": []
  }
 ],
 "metadata": {
  "kernelspec": {
   "display_name": "env",
   "language": "python",
   "name": "python3"
  },
  "language_info": {
   "codemirror_mode": {
    "name": "ipython",
    "version": 3
   },
   "file_extension": ".py",
   "mimetype": "text/x-python",
   "name": "python",
   "nbconvert_exporter": "python",
   "pygments_lexer": "ipython3",
   "version": "3.13.3"
  }
 },
 "nbformat": 4,
 "nbformat_minor": 5
}
