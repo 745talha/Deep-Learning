{
 "cells": [
  {
   "cell_type": "code",
   "execution_count": null,
   "id": "be79e061",
   "metadata": {},
   "outputs": [],
   "source": [
    "import torch\n",
    "from torch.autograd import grad"
   ]
  },
  {
   "cell_type": "code",
   "execution_count": 7,
   "id": "313baf5b",
   "metadata": {},
   "outputs": [],
   "source": [
    "x=torch.tensor([5], dtype=torch.float)\n",
    "w=torch.tensor([1], requires_grad=True, dtype=torch.float)\n",
    "b=torch.tensor([1], requires_grad=True,  dtype=torch.float)"
   ]
  },
  {
   "cell_type": "code",
   "execution_count": 8,
   "id": "f9830171",
   "metadata": {},
   "outputs": [],
   "source": [
    "def relu(z):\n",
    "    if z<=0:\n",
    "        return 0\n",
    "    else:\n",
    "        return z"
   ]
  },
  {
   "cell_type": "code",
   "execution_count": 34,
   "id": "55eb76a1",
   "metadata": {},
   "outputs": [
    {
     "data": {
      "text/plain": [
       "tensor([6.], grad_fn=<AddBackward0>)"
      ]
     },
     "execution_count": 34,
     "metadata": {},
     "output_type": "execute_result"
    }
   ],
   "source": [
    "z=torch.matmul(x,w)+b\n",
    "y=relu(z)\n",
    "y"
   ]
  },
  {
   "cell_type": "code",
   "execution_count": 29,
   "id": "4c6da30d",
   "metadata": {},
   "outputs": [],
   "source": [
    "derv_w=grad(y,w,retain_graph=True)"
   ]
  },
  {
   "cell_type": "code",
   "execution_count": 30,
   "id": "22ff16c7",
   "metadata": {},
   "outputs": [
    {
     "data": {
      "text/plain": [
       "(tensor([5.]),)"
      ]
     },
     "execution_count": 30,
     "metadata": {},
     "output_type": "execute_result"
    }
   ],
   "source": [
    "derv_w"
   ]
  },
  {
   "cell_type": "code",
   "execution_count": null,
   "id": "b1767e16",
   "metadata": {},
   "outputs": [],
   "source": [
    "from torch.nn import functional # built in funtion provided by torch"
   ]
  },
  {
   "cell_type": "code",
   "execution_count": 33,
   "id": "82dbdce3",
   "metadata": {},
   "outputs": [
    {
     "data": {
      "text/plain": [
       "tensor([6.], grad_fn=<ReluBackward0>)"
      ]
     },
     "execution_count": 33,
     "metadata": {},
     "output_type": "execute_result"
    }
   ],
   "source": [
    "y=functional.relu(z)\n",
    "y"
   ]
  },
  {
   "cell_type": "code",
   "execution_count": null,
   "id": "b6fc686f",
   "metadata": {},
   "outputs": [],
   "source": []
  }
 ],
 "metadata": {
  "kernelspec": {
   "display_name": "env",
   "language": "python",
   "name": "python3"
  },
  "language_info": {
   "codemirror_mode": {
    "name": "ipython",
    "version": 3
   },
   "file_extension": ".py",
   "mimetype": "text/x-python",
   "name": "python",
   "nbconvert_exporter": "python",
   "pygments_lexer": "ipython3",
   "version": "3.13.3"
  }
 },
 "nbformat": 4,
 "nbformat_minor": 5
}
